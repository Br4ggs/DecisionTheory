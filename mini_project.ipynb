{
  "nbformat": 4,
  "nbformat_minor": 5,
  "metadata": {
    "colab": {
      "name": "mini project.ipynb",
      "provenance": [],
      "collapsed_sections": [],
      "include_colab_link": true
    },
    "kernelspec": {
      "display_name": "Python 3",
      "language": "python",
      "name": "python3"
    },
    "language_info": {
      "codemirror_mode": {
        "name": "ipython",
        "version": 3
      },
      "file_extension": ".py",
      "mimetype": "text/x-python",
      "name": "python",
      "nbconvert_exporter": "python",
      "pygments_lexer": "ipython3",
      "version": "3.9.5"
    }
  },
  "cells": [
    {
      "cell_type": "markdown",
      "metadata": {
        "id": "view-in-github",
        "colab_type": "text"
      },
      "source": [
        "<a href=\"https://colab.research.google.com/github/Br4ggs/DecisionTheory/blob/main/mini_project.ipynb\" target=\"_parent\"><img src=\"https://colab.research.google.com/assets/colab-badge.svg\" alt=\"Open In Colab\"/></a>"
      ]
    },
    {
      "cell_type": "markdown",
      "metadata": {
        "id": "recent-carroll"
      },
      "source": [
        "# Decision theory mini-project"
      ],
      "id": "recent-carroll"
    },
    {
      "cell_type": "markdown",
      "metadata": {
        "id": "suffering-latvia"
      },
      "source": [
        "In this project we are going to explore the concept of a Markovian Decision Process by using Utility Theory. We will create a rational agent that performs tasks in a simple world."
      ],
      "id": "suffering-latvia"
    },
    {
      "cell_type": "markdown",
      "metadata": {
        "id": "designed-chrome"
      },
      "source": [
        "## Initial concept\n",
        "Our initial concept was to use `OpenAI gym` to create a simple agent for the classic `pendulum` problem, in which an actor must swing a pendulum from left to right by applying directional force to it.\n",
        "\n",
        "Perhaps we will come back to this idea later, for this notebook we will be creating a simple world and actor from scratch.\n",
        "\n",
        "We started with these initial ideas for our problem:\n",
        "* delivery truck (some short roads might have traffic jams)  \n",
        "* minesweeper  \n",
        "* frozen lake (you don't always move in the intended direction)\n",
        "* blackjack\n",
        "\n",
        "These inspired us to come up with the following concept for the problem:\n",
        "\n",
        "You are a delivery driver tasked with delivering cargo to a set of locations. Additionally, you will have to do this in as short of a time as possible. Luckily you know this place like the back of your hand and know a couple of shortcuts which can decrease your time. Careful however, since you aren't the only one that knows these shortcuts,there's a chance you might run into a traffic jam, severely increasing your time."
      ],
      "id": "designed-chrome"
    },
    {
      "cell_type": "markdown",
      "metadata": {
        "id": "IliLbt28VhvP"
      },
      "source": [
        "## Imports and necessary functions\n",
        "We start by importing the libraries that we will be using, as well as defining some functions that will be used later on."
      ],
      "id": "IliLbt28VhvP"
    },
    {
      "cell_type": "code",
      "metadata": {
        "id": "NGsQ5xmn9vGR"
      },
      "source": [
        "import random\n",
        "from enum import Enum\n",
        "import copy\n",
        "from itertools import chain, combinations\n",
        "from __future__ import annotations\n",
        "\n",
        "def powerset(iterable):\n",
        "    s = list(iterable)\n",
        "    subsets = []\n",
        "    for subset in chain.from_iterable(combinations(s, r) for r in range(len(s)+1)):\n",
        "      subsets.append(list(subset))\n",
        "    return subsets\n",
        "\n",
        "def LocationToIndex(column: int, row: int, widht: int) -> int:\n",
        "    return  row * width + column"
      ],
      "id": "NGsQ5xmn9vGR",
      "execution_count": null,
      "outputs": []
    },
    {
      "cell_type": "markdown",
      "metadata": {
        "id": "jtTVJmh64gO5"
      },
      "source": [
        "## Action space\n",
        "We start by defining the action space for our world. In this world the agent will act as a delivery truck that can move between places and deliver cargo. The action space will therefore looks as follows:\n",
        "\n",
        "Actions:\n",
        "*  Up\n",
        "*  Down\n",
        "*  Left\n",
        "*  Right\n",
        "*  Deliver\n",
        "\n",
        "Actions `Up`, `Down`, `Left`, and `Right` all move the actor to a new position. `Deliver` is unique in that it does not move the truck, but will drop off cargo at the current position."
      ],
      "id": "jtTVJmh64gO5"
    },
    {
      "cell_type": "code",
      "metadata": {
        "id": "nULdJVD3Pcq5"
      },
      "source": [
        "class Action(Enum):\n",
        "    Up = 1\n",
        "    Down = 2\n",
        "    Left = 3\n",
        "    Right = 4\n",
        "    Deliver = 5\n",
        "\n",
        "    def __str__(self):\n",
        "        return self.name"
      ],
      "id": "nULdJVD3Pcq5",
      "execution_count": null,
      "outputs": []
    },
    {
      "cell_type": "markdown",
      "metadata": {
        "id": "-SxNb7ckQhkQ"
      },
      "source": [
        "## Model definition\n",
        "We constructed our model out of 3 different classes: `Intersection`, `Road`, and `Truck`: \n",
        "\n",
        "An `Intersection` is a location on our grid based environment. It has three attributes: It's `row`, `column` and wheter it has a `delivery requirement`. This requirment is used to check if we should deliver cargo to this location.\n",
        "\n",
        "A `Road` is a connection between 2 intersections, and used by the agent to travel from one point to another. It has three attributes: It's `intersectionA` and `intersectionB` signify the 2 endpoints. `probability` stores the probability of this road having a traffic jam.\n",
        "\n",
        "Finally, a `Truck` is the current state the world is in. It has two attributes: It's `location` currently in the world and `deliveries` which is the required deliveries still left."
      ],
      "id": "-SxNb7ckQhkQ"
    },
    {
      "cell_type": "code",
      "metadata": {
        "id": "j75zT-uA4iDF"
      },
      "source": [
        "class Intersection:\n",
        "  __row: int\n",
        "  __column: int\n",
        "  __delivery_amount_required: float\n",
        "\n",
        "  def __init__(self, delivery_amount_required: float):\n",
        "      self.__delivery_amount_required = delivery_amount_required\n",
        "\n",
        "  def get_delivery_amount_required(self) -> float:\n",
        "      return self.__delivery_amount_required\n",
        "\n",
        "  def requires_delivery(self) -> bool:\n",
        "      return self.__delivery_amount_required > 0\n",
        "\n",
        "  def get_row(self) -> int:\n",
        "      return self.__row\n",
        "\n",
        "  def get_column(self) -> int:\n",
        "      return self.__column\n",
        "    \n",
        "  def set_location(self, column: int, row: int):\n",
        "      self.__row = row\n",
        "      self.__column = column\n",
        "\n",
        "  def deliver(self):\n",
        "      self.__delivery_amount_required = 0\n",
        "\n",
        "  def __str__(self):\n",
        "      return \"({},{})\".format(self.__column, self.__row)\n",
        "\n",
        "  def __hash__(self):\n",
        "    return hash((self.__delivery_amount_required, self.__column, self.__row))\n",
        "\n",
        "  def __eq__(self, other: Intersection):\n",
        "    if isinstance(other, Intersection):\n",
        "      return self.__row == other.get_row() and self.__column == other.get_column()\n",
        "    else:\n",
        "      return False\n",
        "\n",
        "class Road:\n",
        "    __intersectionA: Intersection = None\n",
        "    __intersectionB: Intersection = None\n",
        "    __probability: float = 0\n",
        "\n",
        "    def __init__(self, probability: float, intersectionA: Intersection, intersectionB: Intersection):\n",
        "        self.__probability = probability\n",
        "        self.__intersectionA = intersectionA\n",
        "        self.__intersectionB = intersectionB\n",
        "\n",
        "    def get_traffic_probability(self) -> float:\n",
        "        return self.__probability\n",
        "\n",
        "    def get_intersection_A(self):\n",
        "        return self.__intersectionA\n",
        "\n",
        "    def get_intersection_B(self):\n",
        "        return self.__intersectionB\n",
        "\n",
        "    def is_endpoint(self, intersection: Intersection) -> bool:\n",
        "        return self.get_intersection_A() == intersection or self.get_intersection_B() == intersection\n",
        "    \n",
        "    def __str__(self):\n",
        "        return \"({}, {}, {})\".format(str(self.__intersectionA), str(self.__intersectionB), self.__probability)\n",
        "\n",
        "    def __hash__(self):\n",
        "      return hash((self.__probability, self.__intersectionA, self.__intersectionB))\n",
        "\n",
        "\n",
        "class Truck:\n",
        "    __location: Intersection\n",
        "    __deliveries: [Intersection]\n",
        "\n",
        "    def __init__(self, location: Intersection = None, deliveries: [Intersection] = None):\n",
        "        self.set_location(location,deliveries)\n",
        "\n",
        "    def get_location(self) -> Intersection:\n",
        "        return self.__location\n",
        "\n",
        "    def get_deliveries(self) -> [Intersection]:\n",
        "        return self.__deliveries\n",
        "\n",
        "    def set_location(self, location: Intersection, deliveries: [Intersection]):\n",
        "        self.__location = location\n",
        "        self.__deliveries = deliveries\n",
        "      \n",
        "    def is_done(self):\n",
        "      return len(self.__deliveries) == 0\n",
        "\n",
        "    def __str__(self):\n",
        "        deliveries = \"\"\n",
        "        deliveries += \"[\"\n",
        "        deliveries += \",\".join(map(lambda delivery: str(delivery), self.__deliveries))\n",
        "        deliveries += \"]\"\n",
        "\n",
        "        return \"({}, {})\".format(str(self.__location), deliveries)\n"
      ],
      "id": "j75zT-uA4iDF",
      "execution_count": null,
      "outputs": []
    },
    {
      "cell_type": "markdown",
      "metadata": {
        "id": "MaFBguCyQlmy"
      },
      "source": [
        "## Environment definition\n",
        "We encapsulate the aforementioned 3 classes in an `Environment` class which will represent our world. We can take actions in this world to alter it's current state.\n",
        "\n",
        "Additionally, we use a `RewardModel` class to store the rewards given by certain actions, such as for traffic, no traffic, a good delivery and a bad delivery."
      ],
      "id": "MaFBguCyQlmy"
    },
    {
      "cell_type": "code",
      "metadata": {
        "id": "s3nxWusoIOFm"
      },
      "source": [
        "class RewardModel:\n",
        "  __reward_traffic: float = 0\n",
        "  __reward_no_traffic: float = 0\n",
        "  __reward_delivery: float = 0\n",
        "  __reward_nothing_to_deliver: float = 0\n",
        "\n",
        "  def __init__(self, reward_traffic: float, reward_no_traffic: float, reward_delivery: float, reward_nothing_to_deliver: float):\n",
        "      self.__reward_traffic = reward_traffic\n",
        "      self.__reward_no_traffic = reward_no_traffic\n",
        "      self.__reward_delivery = reward_delivery\n",
        "      self.__reward_nothing_to_deliver = reward_nothing_to_deliver\n",
        "\n",
        "  def get_reward_traffic(self) -> float:\n",
        "      return self.__reward_traffic\n",
        "\n",
        "  def get_reward_no_traffic(self) -> float:\n",
        "      return self.__reward_no_traffic\n",
        "\n",
        "  def get_reward_delivery(self) -> float:\n",
        "      return self.__reward_delivery\n",
        "\n",
        "  def get_reward_nothing_to_deliver(self) -> float:\n",
        "      return self.__reward_nothing_to_deliver\n",
        "\n",
        "class Environment:\n",
        "  __startIntersection: int\n",
        "\n",
        "  __intersections: [Intersection]\n",
        "  __roads: [Road]\n",
        "\n",
        "  __initial_intersections: [Intersection]\n",
        "  __initial_roads: [Road]\n",
        "\n",
        "  __width: int\n",
        "  __height: int\n",
        "  __truck: Truck\n",
        "  __reward_model: RewardModel\n",
        "\n",
        "  def __init__(self, startIntersection: int, intersections: [Intersection], roads: [Road], width: int, height: int, reward_model: RewardModel):\n",
        "      self.__startIntersection = startIntersection\n",
        "      self.__initial_intersections = intersections\n",
        "      self.__initial_roads = roads\n",
        "\n",
        "      self.__width = width\n",
        "      self.__height = height\n",
        "      self.__truck = Truck()\n",
        "\n",
        "      for row in range(0, height):\n",
        "          for column in range(0, width):\n",
        "              self.__initial_intersections[LocationToIndex(column, row, self.__width)].set_location(column, row)\n",
        "      \n",
        "      self.reset()\n",
        "      self.__reward_model = reward_model\n",
        "  \n",
        "  def get_width(self):\n",
        "    return self.__width\n",
        "  \n",
        "  def get_height(self):\n",
        "    return self.__height\n",
        "  \n",
        "  def get_truck(self):\n",
        "    return self.__truck\n",
        "  \n",
        "  def get_intersection(self, column: int, row: int) -> Intersection:\n",
        "      index = LocationToIndex(column, row, self.__width)\n",
        "      if index not in range(0, len(self.__intersections)):\n",
        "          return None\n",
        "      else:\n",
        "          return self.__intersections[index]\n",
        "\n",
        "  def get_road(self, intersectionA: Intersection, intersectionB: Intersection) -> Road:\n",
        "      if intersectionA == None or intersectionB == None or intersectionA == intersectionB:\n",
        "        return None\n",
        "\n",
        "      for road in self.__roads:\n",
        "          if road.is_endpoint(intersectionA) and road.is_endpoint(intersectionB):\n",
        "              return road\n",
        "      return None\n",
        "\n",
        "\n",
        "  def get_possible_states(self):\n",
        "    delivery_points = self.get_states_with_delivery_requirement()\n",
        "    permutations = powerset(delivery_points)\n",
        "\n",
        "    states = []\n",
        "    for intersection in self.__intersections:\n",
        "      for permutation in permutations:\n",
        "        states.append(Truck(intersection, permutation))\n",
        "\n",
        "    return states\n",
        "\n",
        "  def get_states_with_delivery_requirement(self) -> list:\n",
        "    return list(filter(lambda intersection:  intersection.requires_delivery(), self.__intersections))\n",
        "\n",
        "  def step(self, action: Action) -> (Truck, float, bool):\n",
        "      next_location = self.calculate_transition(action, self.__truck)\n",
        "\n",
        "      reward = self.calculate_reward(action, self.__truck, next_location)\n",
        "      self.__handle_action(action, next_location)\n",
        "      done = self.__is_done()\n",
        "      observation = self.__truck\n",
        "      return observation, reward, done\n",
        "\n",
        "  def calculate_transition(self, action: Action, truck: Truck) -> Intersection:\n",
        "      intersection = truck.get_location()\n",
        "      next_location = None\n",
        "      if action == Action.Up:\n",
        "          next_location = self.get_intersection(intersection.get_column(), intersection.get_row() - 1)\n",
        "      elif action == Action.Down:\n",
        "          next_location = self.get_intersection(intersection.get_column(), intersection.get_row() + 1)\n",
        "      elif action == Action.Left:\n",
        "          next_location = self.get_intersection(intersection.get_column() - 1, intersection.get_row())\n",
        "      elif action == Action.Right:\n",
        "          next_location = self.get_intersection(intersection.get_column() + 1, intersection.get_row())\n",
        "\n",
        "      if next_location == None:\n",
        "        return intersection\n",
        "      else:\n",
        "        return next_location\n",
        "\n",
        "  def calculate_reward(self, action: Action, truck: Truck, next_location: Intersection) -> float:\n",
        "      if action == Action.Deliver:\n",
        "          if truck.get_location() in truck.get_deliveries():\n",
        "              return self.__reward_model.get_reward_delivery()\n",
        "          else:\n",
        "              return self.__reward_model.get_reward_nothing_to_deliver()\n",
        "      else: \n",
        "        value = random.uniform(0, 1)\n",
        "        # Either the actor tries to take an impossible route. Or takes a route with traffic. Give a big negative reward\n",
        "        road = self.get_road(truck.get_location(), next_location)\n",
        "        if  road is None or value < road.get_traffic_probability():\n",
        "            return self.__reward_model.get_reward_traffic()\n",
        "        else:\n",
        "            return  self.__reward_model.get_reward_no_traffic()\n",
        "\n",
        "  def reset(self):\n",
        "      self.__intersections = copy.deepcopy(self.__initial_intersections)\n",
        "      self.__roads = self.__initial_roads\n",
        "      self.__truck.set_location(self.__intersections[self.__startIntersection], self.get_states_with_delivery_requirement())\n",
        "\n",
        "  def __handle_action(self, action: Action, next_intersection: Intersection) -> Truck:\n",
        "    if action == Action.Deliver:\n",
        "      next_intersection.deliver()\n",
        "      self.__truck.set_location(next_intersection,  list(filter(lambda iteration:  iteration != next_intersection, self.__truck.get_deliveries())))\n",
        "    else:\n",
        "      self.__truck.set_location(next_intersection, self.__truck.get_deliveries())\n",
        "\n",
        "  def __is_done(self) -> bool:\n",
        "      if len(self.__truck.get_deliveries()) == 0:\n",
        "          return True\n",
        "      return False"
      ],
      "id": "s3nxWusoIOFm",
      "execution_count": null,
      "outputs": []
    },
    {
      "cell_type": "markdown",
      "metadata": {
        "id": "iKYAWE_gZOVq"
      },
      "source": [
        "## Defining the world\n",
        "After we have defined a model and an environment to contain it, we are going to construct the world the actor will be acting in.\n",
        "\n",
        "The world we created is a simple 3 by 3 grid consisting of intersections and roads, with 2 delivery points. Some of the roads will have a `1.0` probability that traffic occurs, the rest will have a `0.0` probability of heavy traffic.\n",
        "\n",
        "Here is a visualization:\n",
        "```\n",
        "@    : intersection with a delivery requirement\n",
        "O    : intersection with no delivery requirement\n",
        "║ ═  : road with a traffic jam\n",
        "│ ─  : road with no traffic jam\n",
        "\n",
        "@ ─── O ─── O\n",
        "║     ║     │\n",
        "O ─── O ─── O\n",
        "│     │     │\n",
        "O ═══ O ─── @\n",
        "```\n",
        "\n",
        "We also specify a `RewardModel` which specifies the reward associated with an action:\n",
        "* Moving through a road with a traffic jam has a reward of `-0.4`\n",
        "* Moving through a road with no traffic jam has a reward of `-0.04`\n",
        "* Delivering cargo at an intersection with a delivery requirement has a reward of `1`\n",
        "* Delivering cargo at an intersection with no delivery requirement has a reward of `-1`\n"
      ],
      "id": "iKYAWE_gZOVq"
    },
    {
      "cell_type": "code",
      "metadata": {
        "colab": {
          "base_uri": "https://localhost:8080/"
        },
        "id": "RmiJxTlN2R-r",
        "outputId": "68a4d85a-d0e5-4e56-a2ef-bb5c9b4acce3"
      },
      "source": [
        "\n",
        "def generate_environment(startIndex: int, width: int, height: int, delivery_requirements: [float], traffic_jams_probabilities: [float], reward_model: RewardModel) -> Environment:\n",
        "    roads = []\n",
        "    intersections = [Intersection(delivery_requirements[i]) for i in range(width * height)]\n",
        "\n",
        "    for row in range(height):\n",
        "      for column in range(width - 1):\n",
        "        locationA = intersections[LocationToIndex(column, row, width)]\n",
        "        locationB = intersections[LocationToIndex(column + 1, row, width)]\n",
        "        road = Road(traffic_jams_probabilities[len(roads) - 1], locationA, locationB)\n",
        "        roads.append(road)\n",
        "\n",
        "    for row in range(height - 1):\n",
        "      for column in range(width):\n",
        "        locationA = intersections[LocationToIndex(column, row, width)]\n",
        "        locationB = intersections[LocationToIndex(column, row + 1, width)]\n",
        "        road = Road(traffic_jams_probabilities[len(roads) - 1], locationA, locationB)\n",
        "        roads.append(road)\n",
        "\n",
        "    environment = Environment(startIndex, intersections, roads, width, height, reward_model)\n",
        "    return environment\n",
        "\n",
        "roads = []\n",
        "delivery_requirements = [1, 0, 0, 0, 0, 0, 0, 0, 1] # [random.uniform(0, 1) for i in range(9)]\n",
        "intersections = [Intersection(delivery_requirements[i]) for i in range(9)]\n",
        "height = 3\n",
        "width = 3\n",
        "reward_model = RewardModel(-0.4, -0.04, 1, -1)\n",
        "                              # Horizontal roads\n",
        "traffic_jams_probabilities =  [0,0,0,1,0,1, \n",
        "                               # Vertical roads\n",
        "                               1,0,0,0,0,0,0] # use this for complete random streets[random.uniform(0, 1) for i in range(12)] \n",
        "\n",
        "environment = generate_environment(6, height, width,  delivery_requirements, traffic_jams_probabilities, reward_model)\n",
        "\n",
        "print(\"begin state: {}\".format(str(environment.get_truck())))\n",
        "\n",
        "print(\"possible states in world:\")\n",
        "for s in environment.get_possible_states():\n",
        "  print(str(s))"
      ],
      "id": "RmiJxTlN2R-r",
      "execution_count": null,
      "outputs": [
        {
          "output_type": "stream",
          "text": [
            "begin state: ((0,2), [(0,0),(2,2)])\n",
            "possible states in world:\n",
            "((0,0), [])\n",
            "((0,0), [(0,0)])\n",
            "((0,0), [(2,2)])\n",
            "((0,0), [(0,0),(2,2)])\n",
            "((1,0), [])\n",
            "((1,0), [(0,0)])\n",
            "((1,0), [(2,2)])\n",
            "((1,0), [(0,0),(2,2)])\n",
            "((2,0), [])\n",
            "((2,0), [(0,0)])\n",
            "((2,0), [(2,2)])\n",
            "((2,0), [(0,0),(2,2)])\n",
            "((0,1), [])\n",
            "((0,1), [(0,0)])\n",
            "((0,1), [(2,2)])\n",
            "((0,1), [(0,0),(2,2)])\n",
            "((1,1), [])\n",
            "((1,1), [(0,0)])\n",
            "((1,1), [(2,2)])\n",
            "((1,1), [(0,0),(2,2)])\n",
            "((2,1), [])\n",
            "((2,1), [(0,0)])\n",
            "((2,1), [(2,2)])\n",
            "((2,1), [(0,0),(2,2)])\n",
            "((0,2), [])\n",
            "((0,2), [(0,0)])\n",
            "((0,2), [(2,2)])\n",
            "((0,2), [(0,0),(2,2)])\n",
            "((1,2), [])\n",
            "((1,2), [(0,0)])\n",
            "((1,2), [(2,2)])\n",
            "((1,2), [(0,0),(2,2)])\n",
            "((2,2), [])\n",
            "((2,2), [(0,0)])\n",
            "((2,2), [(2,2)])\n",
            "((2,2), [(0,0),(2,2)])\n"
          ],
          "name": "stdout"
        }
      ]
    },
    {
      "cell_type": "markdown",
      "metadata": {
        "id": "MWeGqKsOhi1y"
      },
      "source": [
        "As you can see from the above output, a state is represented in a simplified form as a tuple consisting of the intersection (the current location of the actor) and a list of intersections (the deliveries left to make):\n",
        "\n",
        "`((row, column),[(row, column), ...])`\n",
        "\n",
        "States that have no deliveries left are considered final states."
      ],
      "id": "MWeGqKsOhi1y"
    },
    {
      "cell_type": "markdown",
      "metadata": {
        "id": "oDheulFtZRhA"
      },
      "source": [
        "## Taking steps in the environment\n",
        "The defined `step()` function on the environment is used to modify the world using the aforementioned action space.\n",
        "\n",
        "`step()` returns a `state`, `reward`, and `is_done` object.\n",
        "* `state` is the new state the agent finds themselves in.\n",
        "* `reward` is a number signifying the reward that was gained from doing the action.\n",
        "* `is_done` signifies whether all required deliveries have been delivered.\n"
      ],
      "id": "oDheulFtZRhA"
    },
    {
      "cell_type": "code",
      "metadata": {
        "colab": {
          "base_uri": "https://localhost:8080/"
        },
        "id": "UHBR3UYJo_be",
        "outputId": "7cd86941-c1d8-4996-e6aa-49b4d978c818"
      },
      "source": [
        "environment.reset()\n",
        "print(\"state before actions: {}\".format(str(environment.get_truck())))\n",
        "print(\"\")\n",
        "\n",
        "state, reward, is_done = environment.step(Action.Deliver)\n",
        "print(\"deliver action:\")\n",
        "print(\"reward: {:>5.2f}\".format(reward))\n",
        "print(\"state: {:>18s}\".format(str(state)))\n",
        "print(\"done: {:>8s}\".format(str(is_done)))\n",
        "print(\"\")\n",
        "\n",
        "state, reward, is_done = environment.step(Action.Right)\n",
        "print(\"right action:\")\n",
        "print(\"reward: {:>6.2f}\".format(reward))\n",
        "print(\"state: {:>18s}\".format(str(state)))\n",
        "print(\"done: {:>8s}\".format(str(is_done)))\n",
        "print(\"\")"
      ],
      "id": "UHBR3UYJo_be",
      "execution_count": null,
      "outputs": [
        {
          "output_type": "stream",
          "text": [
            "state before actions: ((0,2), [(0,0),(2,2)])\n",
            "\n",
            "deliver action:\n",
            "reward: -1.00\n",
            "state: ((0,2), [(0,0),(2,2)])\n",
            "done:    False\n",
            "\n",
            "right action:\n",
            "reward:  -0.40\n",
            "state: ((1,2), [(0,0),(2,2)])\n",
            "done:    False\n",
            "\n"
          ],
          "name": "stdout"
        }
      ]
    },
    {
      "cell_type": "markdown",
      "metadata": {
        "id": "Ncxn3aPKxSg_"
      },
      "source": [
        "## Measuring performance\n",
        "In order to get an accurate idea of the performance of a function we define a set of helper functions which will run number of episodes with the given policy, and print some statistics such as the `mean` of the running time as well as the `standard deviation`."
      ],
      "id": "Ncxn3aPKxSg_"
    },
    {
      "cell_type": "code",
      "metadata": {
        "id": "3znm1gGeq8UV"
      },
      "source": [
        "from statistics import mean, stdev\n",
        "\n",
        "def run_one_episode(policy, environment, max_iteration_timeout=1000):\n",
        "  environment.reset()\n",
        "\n",
        "  state = environment.get_truck()\n",
        "  total_reward = 0.0\n",
        "  done = False\n",
        "  \n",
        "  iteration = 0\n",
        "  while not done or iteration >= max_iteration_timeout:\n",
        "    next_action = policy(state)\n",
        "    state, reward, done = environment.step(next_action)\n",
        "    total_reward += reward\n",
        "    iteration += 1\n",
        "  return total_reward\n",
        "\n",
        "def measure_performance(policy, environment, nrof_episodes=100):\n",
        "  N = nrof_episodes\n",
        "  print(\"statistics over {} episodes\".format(N))\n",
        "  all_rewards = []\n",
        "  for _ in range(N):\n",
        "    episode_reward = run_one_episode(policy, environment)\n",
        "    all_rewards.append(episode_reward)\n",
        "  print(\"mean: {:6.2f}, sigma: {:6.2f}\".format(mean(all_rewards), stdev(all_rewards)))\n",
        "  print()\n",
        "  for n, episode_reward in enumerate(all_rewards[:5], 1):\n",
        "    print(\"ep: {:2d}, total reward: {:5.2f}\".format(n, episode_reward))\n",
        "  print(\".....\")\n",
        "  for n, episode_reward in enumerate(all_rewards[-5:], len(all_rewards) - 5):\n",
        "    print(\"ep: {:2d}, total reward: {:5.2f}\".format(n, episode_reward))"
      ],
      "id": "3znm1gGeq8UV",
      "execution_count": null,
      "outputs": []
    },
    {
      "cell_type": "markdown",
      "metadata": {
        "id": "MyqXS_XzzV9O"
      },
      "source": [
        "## Random agent\n",
        "Here we test the performance of an agent who's policy is to pick a random action at each state. Keep in mind that this policy is not usefully in any manner whatsoever."
      ],
      "id": "MyqXS_XzzV9O"
    },
    {
      "cell_type": "code",
      "metadata": {
        "colab": {
          "base_uri": "https://localhost:8080/"
        },
        "id": "RVS2H0xF2tcL",
        "outputId": "bdeae35f-12b2-4679-db27-78f48f0e3731"
      },
      "source": [
        "def policy_random(state: Truck) -> Action:\n",
        "  action = random.choice([a for a in Action])\n",
        "  return action\n",
        "\n",
        "measure_performance(policy_random, environment)"
      ],
      "id": "RVS2H0xF2tcL",
      "execution_count": null,
      "outputs": [
        {
          "output_type": "stream",
          "text": [
            "statistics over 100 episodes\n",
            "mean: -38.85, sigma:  31.36\n",
            "\n",
            "ep:  1, total reward: -46.84\n",
            "ep:  2, total reward: -36.32\n",
            "ep:  3, total reward: -8.52\n",
            "ep:  4, total reward: -149.92\n",
            "ep:  5, total reward: -36.04\n",
            ".....\n",
            "ep: 95, total reward: -22.16\n",
            "ep: 96, total reward: -44.80\n",
            "ep: 97, total reward: -17.72\n",
            "ep: 98, total reward: -57.48\n",
            "ep: 99, total reward: -70.56\n"
          ],
          "name": "stdout"
        }
      ]
    },
    {
      "cell_type": "markdown",
      "metadata": {
        "id": "2y8V4oh80Pj7"
      },
      "source": [
        "You will see that this policy, as expected, has a rather bad `mean` value, which is the main indicator of performance, the higher the value, the better."
      ],
      "id": "2y8V4oh80Pj7"
    },
    {
      "cell_type": "markdown",
      "metadata": {
        "id": "iDmGlkfF0dzt"
      },
      "source": [
        "##Value iteration agent\n",
        "We will now use value iteration to construct a policy based on the concept of picking the action for each state that maximizes the rewarded utility.\n",
        "\n",
        "This is done by iterating over the states numerous times, and updating a states utility value (`U`) until the delta is smaller than a specified amount. This causes a states utility to \"bleed\" out in neighbouring states by their actions, propagating the positive utility throughout the map untill it basically reaches the actor's initial state.\n",
        "\n",
        "After this process we iterate over all states once more, but then pick the action for each state that gives back the biggest reward."
      ],
      "id": "iDmGlkfF0dzt"
    },
    {
      "cell_type": "code",
      "metadata": {
        "colab": {
          "base_uri": "https://localhost:8080/"
        },
        "id": "PweL2sVkxmmK",
        "outputId": "99fb27ac-270a-44c7-dcfa-893403c7b415"
      },
      "source": [
        "def next_state(state: Truck, intersection: Intersection, action: Action):\n",
        "    new_deliveries = state.get_deliveries()\n",
        "    if action == Action.Deliver and intersection in new_deliveries:\n",
        "      new_deliveries = list(filter(lambda iteration:  iteration != intersection, new_deliveries))\n",
        "    return Truck(intersection, new_deliveries)\n",
        "\n",
        "def Q_value(environment, state, action, U):\n",
        "  intersection = environment.calculate_transition(action, state)\n",
        "  new_state = next_state(state, intersection, action)\n",
        "  reward = environment.calculate_reward(action, state, intersection)\n",
        "  return reward + U[str(new_state)]\n",
        "\n",
        "def Value_Iteration(environment, error=0.00001):\n",
        "    U = {}\n",
        "    U_p = get_initial_U(environment)\n",
        "    delta = float(\"inf\")\n",
        "    possible_states = environment.get_possible_states()\n",
        "\n",
        "    while delta > error:\n",
        "      for s in possible_states:\n",
        "        U[str(s)] = U_p[str(s)]\n",
        "\n",
        "      print_U(U)\n",
        "\n",
        "      delta = 0\n",
        "      for s in possible_states:\n",
        "        if s.is_done():\n",
        "          continue\n",
        "        \n",
        "        max_a = float(\"-inf\")\n",
        "\n",
        "        for a in Action:\n",
        "          q = Q_value(environment, s, a, U)\n",
        "          if q > max_a:\n",
        "            max_a = q\n",
        "        \n",
        "        U_p[str(s)] = max_a\n",
        "        difference = abs(U_p[str(s)] - U[str(s)])\n",
        "        if difference > delta:\n",
        "          delta = difference\n",
        "    \n",
        "    return U\n",
        "\n",
        "def policy_generation(environment, U):\n",
        "  pi_star = {}\n",
        "\n",
        "  for s in environment.get_possible_states():\n",
        "    if s.is_done():\n",
        "      continue\n",
        "  \n",
        "    max_a = float(\"-inf\")\n",
        "    argmax_a = None\n",
        "    for action in Action:\n",
        "      q = Q_value(environment, s, action, U)\n",
        "      if q > max_a:\n",
        "        max_a = q\n",
        "        argmax_a = action\n",
        "      pi_star[str(s)] = argmax_a\n",
        "  \n",
        "  return pi_star\n",
        "\n",
        "def get_initial_U(environment):\n",
        "  U = {}\n",
        "  for s in environment.get_possible_states():\n",
        "    U[str(s)] = 0.0\n",
        "  \n",
        "  return U\n",
        "\n",
        "def print_U(U):\n",
        "  print(U) #expand on this\n",
        "\n",
        "def print_policy(pi):\n",
        "  print(pi) #expand on this\n",
        "\n",
        "environment.reset()\n",
        "\n",
        "U = Value_Iteration(environment)\n",
        "\n",
        "print(\"final U:\")\n",
        "print_U(U)\n",
        "\n",
        "pi_star = policy_generation(environment, U)\n",
        "\n",
        "print(\"generated policy:\")\n",
        "print_policy(pi_star)"
      ],
      "id": "PweL2sVkxmmK",
      "execution_count": null,
      "outputs": [
        {
          "output_type": "stream",
          "text": [
            "{'((0,0), [])': 0.0, '((0,0), [(0,0)])': 0.0, '((0,0), [(2,2)])': 0.0, '((0,0), [(0,0),(2,2)])': 0.0, '((1,0), [])': 0.0, '((1,0), [(0,0)])': 0.0, '((1,0), [(2,2)])': 0.0, '((1,0), [(0,0),(2,2)])': 0.0, '((2,0), [])': 0.0, '((2,0), [(0,0)])': 0.0, '((2,0), [(2,2)])': 0.0, '((2,0), [(0,0),(2,2)])': 0.0, '((0,1), [])': 0.0, '((0,1), [(0,0)])': 0.0, '((0,1), [(2,2)])': 0.0, '((0,1), [(0,0),(2,2)])': 0.0, '((1,1), [])': 0.0, '((1,1), [(0,0)])': 0.0, '((1,1), [(2,2)])': 0.0, '((1,1), [(0,0),(2,2)])': 0.0, '((2,1), [])': 0.0, '((2,1), [(0,0)])': 0.0, '((2,1), [(2,2)])': 0.0, '((2,1), [(0,0),(2,2)])': 0.0, '((0,2), [])': 0.0, '((0,2), [(0,0)])': 0.0, '((0,2), [(2,2)])': 0.0, '((0,2), [(0,0),(2,2)])': 0.0, '((1,2), [])': 0.0, '((1,2), [(0,0)])': 0.0, '((1,2), [(2,2)])': 0.0, '((1,2), [(0,0),(2,2)])': 0.0, '((2,2), [])': 0.0, '((2,2), [(0,0)])': 0.0, '((2,2), [(2,2)])': 0.0, '((2,2), [(0,0),(2,2)])': 0.0}\n",
            "{'((0,0), [])': 0.0, '((0,0), [(0,0)])': 1.0, '((0,0), [(2,2)])': -0.04, '((0,0), [(0,0),(2,2)])': 1.0, '((1,0), [])': 0.0, '((1,0), [(0,0)])': -0.04, '((1,0), [(2,2)])': -0.04, '((1,0), [(0,0),(2,2)])': -0.04, '((2,0), [])': 0.0, '((2,0), [(0,0)])': -0.04, '((2,0), [(2,2)])': -0.04, '((2,0), [(0,0),(2,2)])': -0.04, '((0,1), [])': 0.0, '((0,1), [(0,0)])': -0.04, '((0,1), [(2,2)])': -0.04, '((0,1), [(0,0),(2,2)])': -0.04, '((1,1), [])': 0.0, '((1,1), [(0,0)])': -0.04, '((1,1), [(2,2)])': -0.04, '((1,1), [(0,0),(2,2)])': -0.04, '((2,1), [])': 0.0, '((2,1), [(0,0)])': -0.04, '((2,1), [(2,2)])': -0.04, '((2,1), [(0,0),(2,2)])': -0.04, '((0,2), [])': 0.0, '((0,2), [(0,0)])': -0.04, '((0,2), [(2,2)])': -0.04, '((0,2), [(0,0),(2,2)])': -0.04, '((1,2), [])': 0.0, '((1,2), [(0,0)])': -0.04, '((1,2), [(2,2)])': -0.04, '((1,2), [(0,0),(2,2)])': -0.04, '((2,2), [])': 0.0, '((2,2), [(0,0)])': -0.04, '((2,2), [(2,2)])': 1.0, '((2,2), [(0,0),(2,2)])': 1.0}\n",
            "{'((0,0), [])': 0.0, '((0,0), [(0,0)])': 1.0, '((0,0), [(2,2)])': -0.08, '((0,0), [(0,0),(2,2)])': 0.96, '((1,0), [])': 0.0, '((1,0), [(0,0)])': 0.96, '((1,0), [(2,2)])': -0.08, '((1,0), [(0,0),(2,2)])': 0.96, '((2,0), [])': 0.0, '((2,0), [(0,0)])': -0.08, '((2,0), [(2,2)])': -0.08, '((2,0), [(0,0),(2,2)])': -0.08, '((0,1), [])': 0.0, '((0,1), [(0,0)])': 0.6, '((0,1), [(2,2)])': -0.08, '((0,1), [(0,0),(2,2)])': 0.6, '((1,1), [])': 0.0, '((1,1), [(0,0)])': -0.08, '((1,1), [(2,2)])': -0.08, '((1,1), [(0,0),(2,2)])': -0.08, '((2,1), [])': 0.0, '((2,1), [(0,0)])': -0.08, '((2,1), [(2,2)])': 0.96, '((2,1), [(0,0),(2,2)])': 0.96, '((0,2), [])': 0.0, '((0,2), [(0,0)])': -0.08, '((0,2), [(2,2)])': -0.08, '((0,2), [(0,0),(2,2)])': -0.08, '((1,2), [])': 0.0, '((1,2), [(0,0)])': -0.08, '((1,2), [(2,2)])': 0.96, '((1,2), [(0,0),(2,2)])': 0.96, '((2,2), [])': 0.0, '((2,2), [(0,0)])': -0.08, '((2,2), [(2,2)])': 1.0, '((2,2), [(0,0),(2,2)])': 0.96}\n",
            "{'((0,0), [])': 0.0, '((0,0), [(0,0)])': 1.0, '((0,0), [(2,2)])': -0.12, '((0,0), [(0,0),(2,2)])': 0.92, '((1,0), [])': 0.0, '((1,0), [(0,0)])': 0.96, '((1,0), [(2,2)])': -0.12, '((1,0), [(0,0),(2,2)])': 0.9199999999999999, '((2,0), [])': 0.0, '((2,0), [(0,0)])': 0.9199999999999999, '((2,0), [(2,2)])': 0.9199999999999999, '((2,0), [(0,0),(2,2)])': 0.9199999999999999, '((0,1), [])': 0.0, '((0,1), [(0,0)])': 0.6, '((0,1), [(2,2)])': -0.12, '((0,1), [(0,0),(2,2)])': 0.5599999999999999, '((1,1), [])': 0.0, '((1,1), [(0,0)])': 0.5599999999999999, '((1,1), [(2,2)])': 0.9199999999999999, '((1,1), [(0,0),(2,2)])': 0.9199999999999999, '((2,1), [])': 0.0, '((2,1), [(0,0)])': -0.12, '((2,1), [(2,2)])': 0.96, '((2,1), [(0,0),(2,2)])': 0.9199999999999999, '((0,2), [])': 0.0, '((0,2), [(0,0)])': 0.5599999999999999, '((0,2), [(2,2)])': 0.5599999999999999, '((0,2), [(0,0),(2,2)])': 0.5599999999999999, '((1,2), [])': 0.0, '((1,2), [(0,0)])': -0.12, '((1,2), [(2,2)])': 0.96, '((1,2), [(0,0),(2,2)])': 0.9199999999999999, '((2,2), [])': 0.0, '((2,2), [(0,0)])': -0.12, '((2,2), [(2,2)])': 1.0, '((2,2), [(0,0),(2,2)])': 0.92}\n",
            "{'((0,0), [])': 0.0, '((0,0), [(0,0)])': 1.0, '((0,0), [(2,2)])': -0.16, '((0,0), [(0,0),(2,2)])': 0.88, '((1,0), [])': 0.0, '((1,0), [(0,0)])': 0.96, '((1,0), [(2,2)])': 0.8799999999999999, '((1,0), [(0,0),(2,2)])': 0.88, '((2,0), [])': 0.0, '((2,0), [(0,0)])': 0.9199999999999999, '((2,0), [(2,2)])': 0.9199999999999999, '((2,0), [(0,0),(2,2)])': 0.8799999999999999, '((0,1), [])': 0.0, '((0,1), [(0,0)])': 0.6, '((0,1), [(2,2)])': 0.8799999999999999, '((0,1), [(0,0),(2,2)])': 0.8799999999999999, '((1,1), [])': 0.0, '((1,1), [(0,0)])': 0.5599999999999999, '((1,1), [(2,2)])': 0.9199999999999999, '((1,1), [(0,0),(2,2)])': 0.8799999999999999, '((2,1), [])': 0.0, '((2,1), [(0,0)])': 0.8799999999999999, '((2,1), [(2,2)])': 0.96, '((2,1), [(0,0),(2,2)])': 0.88, '((0,2), [])': 0.0, '((0,2), [(0,0)])': 0.5599999999999999, '((0,2), [(2,2)])': 0.5599999999999999, '((0,2), [(0,0),(2,2)])': 0.5199999999999999, '((1,2), [])': 0.0, '((1,2), [(0,0)])': 0.5199999999999999, '((1,2), [(2,2)])': 0.96, '((1,2), [(0,0),(2,2)])': 0.88, '((2,2), [])': 0.0, '((2,2), [(0,0)])': -0.16, '((2,2), [(2,2)])': 1.0, '((2,2), [(0,0),(2,2)])': 0.88}\n",
            "{'((0,0), [])': 0.0, '((0,0), [(0,0)])': 1.0, '((0,0), [(2,2)])': 0.8399999999999999, '((0,0), [(0,0),(2,2)])': 0.84, '((1,0), [])': 0.0, '((1,0), [(0,0)])': 0.96, '((1,0), [(2,2)])': 0.8799999999999999, '((1,0), [(0,0),(2,2)])': 0.84, '((2,0), [])': 0.0, '((2,0), [(0,0)])': 0.9199999999999999, '((2,0), [(2,2)])': 0.9199999999999999, '((2,0), [(0,0),(2,2)])': 0.84, '((0,1), [])': 0.0, '((0,1), [(0,0)])': 0.6, '((0,1), [(2,2)])': 0.8799999999999999, '((0,1), [(0,0),(2,2)])': 0.8399999999999999, '((1,1), [])': 0.0, '((1,1), [(0,0)])': 0.8399999999999999, '((1,1), [(2,2)])': 0.9199999999999999, '((1,1), [(0,0),(2,2)])': 0.84, '((2,1), [])': 0.0, '((2,1), [(0,0)])': 0.8799999999999999, '((2,1), [(2,2)])': 0.96, '((2,1), [(0,0),(2,2)])': 0.84, '((0,2), [])': 0.0, '((0,2), [(0,0)])': 0.5599999999999999, '((0,2), [(2,2)])': 0.8399999999999999, '((0,2), [(0,0),(2,2)])': 0.8399999999999999, '((1,2), [])': 0.0, '((1,2), [(0,0)])': 0.5199999999999999, '((1,2), [(2,2)])': 0.96, '((1,2), [(0,0),(2,2)])': 0.84, '((2,2), [])': 0.0, '((2,2), [(0,0)])': 0.8399999999999999, '((2,2), [(2,2)])': 1.0, '((2,2), [(0,0),(2,2)])': 0.84}\n",
            "{'((0,0), [])': 0.0, '((0,0), [(0,0)])': 1.0, '((0,0), [(2,2)])': 0.8399999999999999, '((0,0), [(0,0),(2,2)])': 1.8399999999999999, '((1,0), [])': 0.0, '((1,0), [(0,0)])': 0.96, '((1,0), [(2,2)])': 0.8799999999999999, '((1,0), [(0,0),(2,2)])': 0.7999999999999999, '((2,0), [])': 0.0, '((2,0), [(0,0)])': 0.9199999999999999, '((2,0), [(2,2)])': 0.9199999999999999, '((2,0), [(0,0),(2,2)])': 0.7999999999999999, '((0,1), [])': 0.0, '((0,1), [(0,0)])': 0.7999999999999998, '((0,1), [(2,2)])': 0.8799999999999999, '((0,1), [(0,0),(2,2)])': 0.7999999999999999, '((1,1), [])': 0.0, '((1,1), [(0,0)])': 0.8399999999999999, '((1,1), [(2,2)])': 0.9199999999999999, '((1,1), [(0,0),(2,2)])': 0.7999999999999999, '((2,1), [])': 0.0, '((2,1), [(0,0)])': 0.8799999999999999, '((2,1), [(2,2)])': 0.96, '((2,1), [(0,0),(2,2)])': 0.7999999999999999, '((0,2), [])': 0.0, '((0,2), [(0,0)])': 0.5599999999999999, '((0,2), [(2,2)])': 0.8399999999999999, '((0,2), [(0,0),(2,2)])': 0.7999999999999998, '((1,2), [])': 0.0, '((1,2), [(0,0)])': 0.7999999999999998, '((1,2), [(2,2)])': 0.96, '((1,2), [(0,0),(2,2)])': 0.7999999999999999, '((2,2), [])': 0.0, '((2,2), [(0,0)])': 0.8399999999999999, '((2,2), [(2,2)])': 1.0, '((2,2), [(0,0),(2,2)])': 1.8399999999999999}\n",
            "{'((0,0), [])': 0.0, '((0,0), [(0,0)])': 1.0, '((0,0), [(2,2)])': 0.8399999999999999, '((0,0), [(0,0),(2,2)])': 1.8399999999999999, '((1,0), [])': 0.0, '((1,0), [(0,0)])': 0.96, '((1,0), [(2,2)])': 0.8799999999999999, '((1,0), [(0,0),(2,2)])': 1.7999999999999998, '((2,0), [])': 0.0, '((2,0), [(0,0)])': 0.9199999999999999, '((2,0), [(2,2)])': 0.9199999999999999, '((2,0), [(0,0),(2,2)])': 0.7599999999999999, '((0,1), [])': 0.0, '((0,1), [(0,0)])': 0.7999999999999998, '((0,1), [(2,2)])': 0.8799999999999999, '((0,1), [(0,0),(2,2)])': 1.44, '((1,1), [])': 0.0, '((1,1), [(0,0)])': 0.8399999999999999, '((1,1), [(2,2)])': 0.9199999999999999, '((1,1), [(0,0),(2,2)])': 0.7599999999999999, '((2,1), [])': 0.0, '((2,1), [(0,0)])': 0.8799999999999999, '((2,1), [(2,2)])': 0.96, '((2,1), [(0,0),(2,2)])': 1.7999999999999998, '((0,2), [])': 0.0, '((0,2), [(0,0)])': 0.7599999999999998, '((0,2), [(2,2)])': 0.8399999999999999, '((0,2), [(0,0),(2,2)])': 0.7599999999999999, '((1,2), [])': 0.0, '((1,2), [(0,0)])': 0.7999999999999998, '((1,2), [(2,2)])': 0.96, '((1,2), [(0,0),(2,2)])': 1.7999999999999998, '((2,2), [])': 0.0, '((2,2), [(0,0)])': 0.8399999999999999, '((2,2), [(2,2)])': 1.0, '((2,2), [(0,0),(2,2)])': 1.8399999999999999}\n",
            "{'((0,0), [])': 0.0, '((0,0), [(0,0)])': 1.0, '((0,0), [(2,2)])': 0.8399999999999999, '((0,0), [(0,0),(2,2)])': 1.8399999999999999, '((1,0), [])': 0.0, '((1,0), [(0,0)])': 0.96, '((1,0), [(2,2)])': 0.8799999999999999, '((1,0), [(0,0),(2,2)])': 1.7999999999999998, '((2,0), [])': 0.0, '((2,0), [(0,0)])': 0.9199999999999999, '((2,0), [(2,2)])': 0.9199999999999999, '((2,0), [(0,0),(2,2)])': 1.7599999999999998, '((0,1), [])': 0.0, '((0,1), [(0,0)])': 0.7999999999999998, '((0,1), [(2,2)])': 0.8799999999999999, '((0,1), [(0,0),(2,2)])': 1.44, '((1,1), [])': 0.0, '((1,1), [(0,0)])': 0.8399999999999999, '((1,1), [(2,2)])': 0.9199999999999999, '((1,1), [(0,0),(2,2)])': 1.7599999999999998, '((2,1), [])': 0.0, '((2,1), [(0,0)])': 0.8799999999999999, '((2,1), [(2,2)])': 0.96, '((2,1), [(0,0),(2,2)])': 1.7999999999999998, '((0,2), [])': 0.0, '((0,2), [(0,0)])': 0.7599999999999998, '((0,2), [(2,2)])': 0.8399999999999999, '((0,2), [(0,0),(2,2)])': 1.4, '((1,2), [])': 0.0, '((1,2), [(0,0)])': 0.7999999999999998, '((1,2), [(2,2)])': 0.96, '((1,2), [(0,0),(2,2)])': 1.7999999999999998, '((2,2), [])': 0.0, '((2,2), [(0,0)])': 0.8399999999999999, '((2,2), [(2,2)])': 1.0, '((2,2), [(0,0),(2,2)])': 1.8399999999999999}\n",
            "{'((0,0), [])': 0.0, '((0,0), [(0,0)])': 1.0, '((0,0), [(2,2)])': 0.8399999999999999, '((0,0), [(0,0),(2,2)])': 1.8399999999999999, '((1,0), [])': 0.0, '((1,0), [(0,0)])': 0.96, '((1,0), [(2,2)])': 0.8799999999999999, '((1,0), [(0,0),(2,2)])': 1.7999999999999998, '((2,0), [])': 0.0, '((2,0), [(0,0)])': 0.9199999999999999, '((2,0), [(2,2)])': 0.9199999999999999, '((2,0), [(0,0),(2,2)])': 1.7599999999999998, '((0,1), [])': 0.0, '((0,1), [(0,0)])': 0.7999999999999998, '((0,1), [(2,2)])': 0.8799999999999999, '((0,1), [(0,0),(2,2)])': 1.7199999999999998, '((1,1), [])': 0.0, '((1,1), [(0,0)])': 0.8399999999999999, '((1,1), [(2,2)])': 0.9199999999999999, '((1,1), [(0,0),(2,2)])': 1.7599999999999998, '((2,1), [])': 0.0, '((2,1), [(0,0)])': 0.8799999999999999, '((2,1), [(2,2)])': 0.96, '((2,1), [(0,0),(2,2)])': 1.7999999999999998, '((0,2), [])': 0.0, '((0,2), [(0,0)])': 0.7599999999999998, '((0,2), [(2,2)])': 0.8399999999999999, '((0,2), [(0,0),(2,2)])': 1.4, '((1,2), [])': 0.0, '((1,2), [(0,0)])': 0.7999999999999998, '((1,2), [(2,2)])': 0.96, '((1,2), [(0,0),(2,2)])': 1.7999999999999998, '((2,2), [])': 0.0, '((2,2), [(0,0)])': 0.8399999999999999, '((2,2), [(2,2)])': 1.0, '((2,2), [(0,0),(2,2)])': 1.8399999999999999}\n",
            "{'((0,0), [])': 0.0, '((0,0), [(0,0)])': 1.0, '((0,0), [(2,2)])': 0.8399999999999999, '((0,0), [(0,0),(2,2)])': 1.8399999999999999, '((1,0), [])': 0.0, '((1,0), [(0,0)])': 0.96, '((1,0), [(2,2)])': 0.8799999999999999, '((1,0), [(0,0),(2,2)])': 1.7999999999999998, '((2,0), [])': 0.0, '((2,0), [(0,0)])': 0.9199999999999999, '((2,0), [(2,2)])': 0.9199999999999999, '((2,0), [(0,0),(2,2)])': 1.7599999999999998, '((0,1), [])': 0.0, '((0,1), [(0,0)])': 0.7999999999999998, '((0,1), [(2,2)])': 0.8799999999999999, '((0,1), [(0,0),(2,2)])': 1.7199999999999998, '((1,1), [])': 0.0, '((1,1), [(0,0)])': 0.8399999999999999, '((1,1), [(2,2)])': 0.9199999999999999, '((1,1), [(0,0),(2,2)])': 1.7599999999999998, '((2,1), [])': 0.0, '((2,1), [(0,0)])': 0.8799999999999999, '((2,1), [(2,2)])': 0.96, '((2,1), [(0,0),(2,2)])': 1.7999999999999998, '((0,2), [])': 0.0, '((0,2), [(0,0)])': 0.7599999999999998, '((0,2), [(2,2)])': 0.8399999999999999, '((0,2), [(0,0),(2,2)])': 1.6799999999999997, '((1,2), [])': 0.0, '((1,2), [(0,0)])': 0.7999999999999998, '((1,2), [(2,2)])': 0.96, '((1,2), [(0,0),(2,2)])': 1.7999999999999998, '((2,2), [])': 0.0, '((2,2), [(0,0)])': 0.8399999999999999, '((2,2), [(2,2)])': 1.0, '((2,2), [(0,0),(2,2)])': 1.8399999999999999}\n",
            "final U:\n",
            "{'((0,0), [])': 0.0, '((0,0), [(0,0)])': 1.0, '((0,0), [(2,2)])': 0.8399999999999999, '((0,0), [(0,0),(2,2)])': 1.8399999999999999, '((1,0), [])': 0.0, '((1,0), [(0,0)])': 0.96, '((1,0), [(2,2)])': 0.8799999999999999, '((1,0), [(0,0),(2,2)])': 1.7999999999999998, '((2,0), [])': 0.0, '((2,0), [(0,0)])': 0.9199999999999999, '((2,0), [(2,2)])': 0.9199999999999999, '((2,0), [(0,0),(2,2)])': 1.7599999999999998, '((0,1), [])': 0.0, '((0,1), [(0,0)])': 0.7999999999999998, '((0,1), [(2,2)])': 0.8799999999999999, '((0,1), [(0,0),(2,2)])': 1.7199999999999998, '((1,1), [])': 0.0, '((1,1), [(0,0)])': 0.8399999999999999, '((1,1), [(2,2)])': 0.9199999999999999, '((1,1), [(0,0),(2,2)])': 1.7599999999999998, '((2,1), [])': 0.0, '((2,1), [(0,0)])': 0.8799999999999999, '((2,1), [(2,2)])': 0.96, '((2,1), [(0,0),(2,2)])': 1.7999999999999998, '((0,2), [])': 0.0, '((0,2), [(0,0)])': 0.7599999999999998, '((0,2), [(2,2)])': 0.8399999999999999, '((0,2), [(0,0),(2,2)])': 1.6799999999999997, '((1,2), [])': 0.0, '((1,2), [(0,0)])': 0.7999999999999998, '((1,2), [(2,2)])': 0.96, '((1,2), [(0,0),(2,2)])': 1.7999999999999998, '((2,2), [])': 0.0, '((2,2), [(0,0)])': 0.8399999999999999, '((2,2), [(2,2)])': 1.0, '((2,2), [(0,0),(2,2)])': 1.8399999999999999}\n",
            "generated policy:\n",
            "{'((0,0), [(0,0)])': <Action.Deliver: 5>, '((0,0), [(2,2)])': <Action.Right: 4>, '((0,0), [(0,0),(2,2)])': <Action.Deliver: 5>, '((1,0), [(0,0)])': <Action.Left: 3>, '((1,0), [(2,2)])': <Action.Right: 4>, '((1,0), [(0,0),(2,2)])': <Action.Left: 3>, '((2,0), [(0,0)])': <Action.Left: 3>, '((2,0), [(2,2)])': <Action.Down: 2>, '((2,0), [(0,0),(2,2)])': <Action.Down: 2>, '((0,1), [(0,0)])': <Action.Right: 4>, '((0,1), [(2,2)])': <Action.Right: 4>, '((0,1), [(0,0),(2,2)])': <Action.Right: 4>, '((1,1), [(0,0)])': <Action.Right: 4>, '((1,1), [(2,2)])': <Action.Down: 2>, '((1,1), [(0,0),(2,2)])': <Action.Down: 2>, '((2,1), [(0,0)])': <Action.Up: 1>, '((2,1), [(2,2)])': <Action.Down: 2>, '((2,1), [(0,0),(2,2)])': <Action.Down: 2>, '((0,2), [(0,0)])': <Action.Up: 1>, '((0,2), [(2,2)])': <Action.Up: 1>, '((0,2), [(0,0),(2,2)])': <Action.Up: 1>, '((1,2), [(0,0)])': <Action.Up: 1>, '((1,2), [(2,2)])': <Action.Right: 4>, '((1,2), [(0,0),(2,2)])': <Action.Right: 4>, '((2,2), [(0,0)])': <Action.Up: 1>, '((2,2), [(2,2)])': <Action.Deliver: 5>, '((2,2), [(0,0),(2,2)])': <Action.Deliver: 5>}\n"
          ],
          "name": "stdout"
        }
      ]
    },
    {
      "cell_type": "markdown",
      "metadata": {
        "id": "ZG0N8r2s3oZz"
      },
      "source": [
        "You can see in the above output that the state's utility values are iteratively updated, eventually leading to a fully defined policy map."
      ],
      "id": "ZG0N8r2s3oZz"
    },
    {
      "cell_type": "code",
      "metadata": {
        "colab": {
          "base_uri": "https://localhost:8080/"
        },
        "id": "zmMQad3K30dB",
        "outputId": "62c903e9-af48-4865-b14a-07db60020fec"
      },
      "source": [
        "def policy_value_iteration(state: Truck):\n",
        "  return pi_star[str(state)] if str(state) in pi_star else None\n",
        "\n",
        "measure_performance(policy_value_iteration, environment)"
      ],
      "id": "zmMQad3K30dB",
      "execution_count": null,
      "outputs": [
        {
          "output_type": "stream",
          "text": [
            "statistics over 100 episodes\n",
            "mean:   1.68, sigma:   0.00\n",
            "\n",
            "ep:  1, total reward:  1.68\n",
            "ep:  2, total reward:  1.68\n",
            "ep:  3, total reward:  1.68\n",
            "ep:  4, total reward:  1.68\n",
            "ep:  5, total reward:  1.68\n",
            ".....\n",
            "ep: 95, total reward:  1.68\n",
            "ep: 96, total reward:  1.68\n",
            "ep: 97, total reward:  1.68\n",
            "ep: 98, total reward:  1.68\n",
            "ep: 99, total reward:  1.68\n"
          ],
          "name": "stdout"
        }
      ]
    },
    {
      "cell_type": "markdown",
      "metadata": {
        "id": "W8fOeRhp4Nui"
      },
      "source": [
        "As you can see, our value iteration policy fares a lot better!"
      ],
      "id": "W8fOeRhp4Nui"
    },
    {
      "cell_type": "markdown",
      "metadata": {
        "id": "ZNAiJ4M9yPxu"
      },
      "source": [
        "Here is a step by step visualization of the process"
      ],
      "id": "ZNAiJ4M9yPxu"
    },
    {
      "cell_type": "code",
      "metadata": {
        "id": "Ux6TTkCLyE15"
      },
      "source": [
        "def print_environment(environment):\n",
        "  width = environment.get_width()\n",
        "  height = environment.get_height()\n",
        "  truck_position = environment.get_truck().get_location()\n",
        "\n",
        "  for row in range(height):\n",
        "    horizontal = \"\"\n",
        "    vertical = \"\"\n",
        "    for column in range(width):\n",
        "      if truck_position.get_row() == row and truck_position.get_column() == column:\n",
        "        horizontal += \"&\"\n",
        "      elif environment.get_intersection(column, row).requires_delivery():\n",
        "        horizontal += \"@\"\n",
        "      else:\n",
        "        horizontal += \"O\"\n",
        "      \n",
        "      if column < width - 1:\n",
        "        road = environment.get_road(environment.get_intersection(column, row), environment.get_intersection(column + 1, row))\n",
        "        if road.get_traffic_probability() > 0:\n",
        "          horizontal += \" ══ \" \n",
        "        else:\n",
        "          horizontal += \" ── \"\n",
        "\n",
        "      if row < height - 1:\n",
        "        road = environment.get_road(environment.get_intersection(column, row), environment.get_intersection(column, row + 1))\n",
        "        if road.get_traffic_probability() > 0:\n",
        "          vertical += \"║    \"\n",
        "        else:\n",
        "          vertical += \"│    \"   \n",
        "    \n",
        "    print(horizontal)\n",
        "    print(vertical)"
      ],
      "id": "Ux6TTkCLyE15",
      "execution_count": null,
      "outputs": []
    },
    {
      "cell_type": "markdown",
      "metadata": {
        "id": "Y_FnLaW05YRa"
      },
      "source": [
        "Just play the following cells repeatedly to see the agent traverse throughout the world"
      ],
      "id": "Y_FnLaW05YRa"
    },
    {
      "cell_type": "code",
      "metadata": {
        "colab": {
          "base_uri": "https://localhost:8080/"
        },
        "id": "Z9vFDA2dEq3h",
        "outputId": "547776db-ecbd-444a-da9f-63238388bb84"
      },
      "source": [
        "environment.reset()\n",
        "print_environment(environment)\n",
        "print(\"state: {:>18s}\".format(str(environment.get_truck())))\n",
        "\n",
        "total_reward = 0"
      ],
      "id": "Z9vFDA2dEq3h",
      "execution_count": null,
      "outputs": [
        {
          "output_type": "stream",
          "text": [
            "@ ── O ── O\n",
            "║    ║    │    \n",
            "O ── O ── O\n",
            "│    │    │    \n",
            "& ══ O ── @\n",
            "\n",
            "state: ((0,2), [(0,0),(2,2)])\n"
          ],
          "name": "stdout"
        }
      ]
    },
    {
      "cell_type": "code",
      "metadata": {
        "colab": {
          "base_uri": "https://localhost:8080/"
        },
        "id": "VtscikN25dBx",
        "outputId": "782dec3a-b9b0-4572-eb50-6ba56d5a5e6c"
      },
      "source": [
        "action = policy_value_iteration(environment.get_truck())\n",
        "\n",
        "truck, reward, is_done = environment.step(action) if action != None else (None, 0, True)\n",
        "total_reward += reward\n",
        "\n",
        "print_environment(environment)\n",
        "print(\"action:       {}\".format(action if action != None else \"-\"))\n",
        "print(\"reward:       {}\".format(reward))\n",
        "print(\"reward total: {}\".format(total_reward))\n",
        "print(\"state:        {}\".format(str(environment.get_truck())))\n",
        "print(\"done:         {}\".format(str(is_done)))"
      ],
      "id": "VtscikN25dBx",
      "execution_count": null,
      "outputs": [
        {
          "output_type": "stream",
          "text": [
            "& ── O ── O\n",
            "║    ║    │    \n",
            "O ── O ── O\n",
            "│    │    │    \n",
            "O ══ O ── O\n",
            "\n",
            "action:       -\n",
            "reward:       0\n",
            "reward total: 1.6799999999999997\n",
            "state:        ((0,0), [])\n",
            "done:         True\n"
          ],
          "name": "stdout"
        }
      ]
    },
    {
      "cell_type": "markdown",
      "metadata": {
        "id": "PtUTb-iNsvPE"
      },
      "source": [
        "## Value iteration with a more stocastic world\n",
        "We now want to show how our policy is defined if we use value iteration on a more stocastic world. The next world will not have `100%` probabilities of having traffic jams on some of the roads, but `25%`, `50%`, and `75%` respectively.\n",
        "\n",
        "We start by once again defining the world."
      ],
      "id": "PtUTb-iNsvPE"
    },
    {
      "cell_type": "code",
      "metadata": {
        "colab": {
          "base_uri": "https://localhost:8080/"
        },
        "id": "iLuCM4MVtH_T",
        "outputId": "3785be61-1ba8-4a5e-f3d2-2edd2d135f49"
      },
      "source": [
        "# create environment here\n",
        "stochastic_traffic_jams_probabilities =  [0,0,0,0.75,0,0.25, \n",
        "                                          # Vertical roads\n",
        "                                          0.5,0,.1,0,0,0,0]\n",
        "stochastic_environment = generate_environment(6, height, width,  delivery_requirements, stochastic_traffic_jams_probabilities, reward_model)\n",
        "print(stochastic_traffic_jams_probabilities)"
      ],
      "id": "iLuCM4MVtH_T",
      "execution_count": null,
      "outputs": [
        {
          "output_type": "stream",
          "text": [
            "[0, 0, 0, 0.75, 0, 0.25, 0.5, 0, 0.1, 0, 0, 0, 0]\n"
          ],
          "name": "stdout"
        }
      ]
    },
    {
      "cell_type": "markdown",
      "metadata": {
        "id": "CQhOdywitHLo"
      },
      "source": [
        "We then once again use value iteration to generate U, and generate a policy afterwards."
      ],
      "id": "CQhOdywitHLo"
    },
    {
      "cell_type": "code",
      "metadata": {
        "colab": {
          "base_uri": "https://localhost:8080/"
        },
        "id": "WAOdqQtPtyyc",
        "outputId": "249e371b-6696-407d-a055-c0aea9d47bdc"
      },
      "source": [
        "U_stocastic = Value_Iteration(stochastic_environment)\n",
        "\n",
        "print_U(U_stocastic)\n"
      ],
      "id": "WAOdqQtPtyyc",
      "execution_count": null,
      "outputs": [
        {
          "output_type": "stream",
          "text": [
            "{'((0,0), [])': 0.0, '((0,0), [(0,0)])': 0.0, '((0,0), [(2,2)])': 0.0, '((0,0), [(0,0),(2,2)])': 0.0, '((1,0), [])': 0.0, '((1,0), [(0,0)])': 0.0, '((1,0), [(2,2)])': 0.0, '((1,0), [(0,0),(2,2)])': 0.0, '((2,0), [])': 0.0, '((2,0), [(0,0)])': 0.0, '((2,0), [(2,2)])': 0.0, '((2,0), [(0,0),(2,2)])': 0.0, '((0,1), [])': 0.0, '((0,1), [(0,0)])': 0.0, '((0,1), [(2,2)])': 0.0, '((0,1), [(0,0),(2,2)])': 0.0, '((1,1), [])': 0.0, '((1,1), [(0,0)])': 0.0, '((1,1), [(2,2)])': 0.0, '((1,1), [(0,0),(2,2)])': 0.0, '((2,1), [])': 0.0, '((2,1), [(0,0)])': 0.0, '((2,1), [(2,2)])': 0.0, '((2,1), [(0,0),(2,2)])': 0.0, '((0,2), [])': 0.0, '((0,2), [(0,0)])': 0.0, '((0,2), [(2,2)])': 0.0, '((0,2), [(0,0),(2,2)])': 0.0, '((1,2), [])': 0.0, '((1,2), [(0,0)])': 0.0, '((1,2), [(2,2)])': 0.0, '((1,2), [(0,0),(2,2)])': 0.0, '((2,2), [])': 0.0, '((2,2), [(0,0)])': 0.0, '((2,2), [(2,2)])': 0.0, '((2,2), [(0,0),(2,2)])': 0.0}\n",
            "{'((0,0), [])': 0.0, '((0,0), [(0,0)])': 1.0, '((0,0), [(2,2)])': -0.04, '((0,0), [(0,0),(2,2)])': 1.0, '((1,0), [])': 0.0, '((1,0), [(0,0)])': -0.04, '((1,0), [(2,2)])': -0.04, '((1,0), [(0,0),(2,2)])': -0.04, '((2,0), [])': 0.0, '((2,0), [(0,0)])': -0.04, '((2,0), [(2,2)])': -0.04, '((2,0), [(0,0),(2,2)])': -0.04, '((0,1), [])': 0.0, '((0,1), [(0,0)])': -0.04, '((0,1), [(2,2)])': -0.04, '((0,1), [(0,0),(2,2)])': -0.04, '((1,1), [])': 0.0, '((1,1), [(0,0)])': -0.04, '((1,1), [(2,2)])': -0.04, '((1,1), [(0,0),(2,2)])': -0.04, '((2,1), [])': 0.0, '((2,1), [(0,0)])': -0.04, '((2,1), [(2,2)])': -0.04, '((2,1), [(0,0),(2,2)])': -0.04, '((0,2), [])': 0.0, '((0,2), [(0,0)])': -0.04, '((0,2), [(2,2)])': -0.04, '((0,2), [(0,0),(2,2)])': -0.04, '((1,2), [])': 0.0, '((1,2), [(0,0)])': -0.04, '((1,2), [(2,2)])': -0.04, '((1,2), [(0,0),(2,2)])': -0.04, '((2,2), [])': 0.0, '((2,2), [(0,0)])': -0.04, '((2,2), [(2,2)])': 1.0, '((2,2), [(0,0),(2,2)])': 1.0}\n",
            "{'((0,0), [])': 0.0, '((0,0), [(0,0)])': 1.0, '((0,0), [(2,2)])': -0.08, '((0,0), [(0,0),(2,2)])': 0.96, '((1,0), [])': 0.0, '((1,0), [(0,0)])': 0.96, '((1,0), [(2,2)])': -0.08, '((1,0), [(0,0),(2,2)])': 0.96, '((2,0), [])': 0.0, '((2,0), [(0,0)])': -0.08, '((2,0), [(2,2)])': -0.08, '((2,0), [(0,0),(2,2)])': -0.08, '((0,1), [])': 0.0, '((0,1), [(0,0)])': 0.96, '((0,1), [(2,2)])': -0.08, '((0,1), [(0,0),(2,2)])': 0.6, '((1,1), [])': 0.0, '((1,1), [(0,0)])': -0.08, '((1,1), [(2,2)])': -0.08, '((1,1), [(0,0),(2,2)])': -0.08, '((2,1), [])': 0.0, '((2,1), [(0,0)])': -0.08, '((2,1), [(2,2)])': 0.96, '((2,1), [(0,0),(2,2)])': 0.96, '((0,2), [])': 0.0, '((0,2), [(0,0)])': -0.08, '((0,2), [(2,2)])': -0.08, '((0,2), [(0,0),(2,2)])': -0.08, '((1,2), [])': 0.0, '((1,2), [(0,0)])': -0.08, '((1,2), [(2,2)])': 0.96, '((1,2), [(0,0),(2,2)])': 0.96, '((2,2), [])': 0.0, '((2,2), [(0,0)])': -0.08, '((2,2), [(2,2)])': 1.0, '((2,2), [(0,0),(2,2)])': 0.96}\n",
            "{'((0,0), [])': 0.0, '((0,0), [(0,0)])': 1.0, '((0,0), [(2,2)])': -0.12, '((0,0), [(0,0),(2,2)])': 0.92, '((1,0), [])': 0.0, '((1,0), [(0,0)])': 0.96, '((1,0), [(2,2)])': -0.12, '((1,0), [(0,0),(2,2)])': 0.9199999999999999, '((2,0), [])': 0.0, '((2,0), [(0,0)])': 0.9199999999999999, '((2,0), [(2,2)])': 0.9199999999999999, '((2,0), [(0,0),(2,2)])': 0.9199999999999999, '((0,1), [])': 0.0, '((0,1), [(0,0)])': 0.96, '((0,1), [(2,2)])': -0.12, '((0,1), [(0,0),(2,2)])': 0.9199999999999999, '((1,1), [])': 0.0, '((1,1), [(0,0)])': 0.9199999999999999, '((1,1), [(2,2)])': 0.9199999999999999, '((1,1), [(0,0),(2,2)])': 0.9199999999999999, '((2,1), [])': 0.0, '((2,1), [(0,0)])': -0.12, '((2,1), [(2,2)])': 0.96, '((2,1), [(0,0),(2,2)])': 0.9199999999999999, '((0,2), [])': 0.0, '((0,2), [(0,0)])': 0.9199999999999999, '((0,2), [(2,2)])': 0.5599999999999999, '((0,2), [(0,0),(2,2)])': 0.5599999999999999, '((1,2), [])': 0.0, '((1,2), [(0,0)])': -0.12, '((1,2), [(2,2)])': 0.96, '((1,2), [(0,0),(2,2)])': 0.9199999999999999, '((2,2), [])': 0.0, '((2,2), [(0,0)])': -0.12, '((2,2), [(2,2)])': 1.0, '((2,2), [(0,0),(2,2)])': 0.92}\n",
            "{'((0,0), [])': 0.0, '((0,0), [(0,0)])': 1.0, '((0,0), [(2,2)])': -0.16, '((0,0), [(0,0),(2,2)])': 0.88, '((1,0), [])': 0.0, '((1,0), [(0,0)])': 0.96, '((1,0), [(2,2)])': 0.8799999999999999, '((1,0), [(0,0),(2,2)])': 0.88, '((2,0), [])': 0.0, '((2,0), [(0,0)])': 0.9199999999999999, '((2,0), [(2,2)])': 0.9199999999999999, '((2,0), [(0,0),(2,2)])': 0.8799999999999999, '((0,1), [])': 0.0, '((0,1), [(0,0)])': 0.8799999999999999, '((0,1), [(2,2)])': 0.8799999999999999, '((0,1), [(0,0),(2,2)])': 0.88, '((1,1), [])': 0.0, '((1,1), [(0,0)])': 0.9199999999999999, '((1,1), [(2,2)])': 0.9199999999999999, '((1,1), [(0,0),(2,2)])': 0.8799999999999999, '((2,1), [])': 0.0, '((2,1), [(0,0)])': 0.8799999999999999, '((2,1), [(2,2)])': 0.96, '((2,1), [(0,0),(2,2)])': 0.88, '((0,2), [])': 0.0, '((0,2), [(0,0)])': 0.5599999999999999, '((0,2), [(2,2)])': 0.5599999999999999, '((0,2), [(0,0),(2,2)])': 0.8799999999999999, '((1,2), [])': 0.0, '((1,2), [(0,0)])': 0.8799999999999999, '((1,2), [(2,2)])': 0.96, '((1,2), [(0,0),(2,2)])': 0.88, '((2,2), [])': 0.0, '((2,2), [(0,0)])': -0.16, '((2,2), [(2,2)])': 1.0, '((2,2), [(0,0),(2,2)])': 0.88}\n",
            "{'((0,0), [])': 0.0, '((0,0), [(0,0)])': 1.0, '((0,0), [(2,2)])': 0.8399999999999999, '((0,0), [(0,0),(2,2)])': 0.84, '((1,0), [])': 0.0, '((1,0), [(0,0)])': 0.96, '((1,0), [(2,2)])': 0.8799999999999999, '((1,0), [(0,0),(2,2)])': 0.84, '((2,0), [])': 0.0, '((2,0), [(0,0)])': 0.9199999999999999, '((2,0), [(2,2)])': 0.9199999999999999, '((2,0), [(0,0),(2,2)])': 0.84, '((0,1), [])': 0.0, '((0,1), [(0,0)])': 0.96, '((0,1), [(2,2)])': 0.8799999999999999, '((0,1), [(0,0),(2,2)])': 0.8399999999999999, '((1,1), [])': 0.0, '((1,1), [(0,0)])': 0.8399999999999999, '((1,1), [(2,2)])': 0.9199999999999999, '((1,1), [(0,0),(2,2)])': 0.84, '((2,1), [])': 0.0, '((2,1), [(0,0)])': 0.8799999999999999, '((2,1), [(2,2)])': 0.96, '((2,1), [(0,0),(2,2)])': 0.84, '((0,2), [])': 0.0, '((0,2), [(0,0)])': 0.8399999999999999, '((0,2), [(2,2)])': 0.8399999999999999, '((0,2), [(0,0),(2,2)])': 0.84, '((1,2), [])': 0.0, '((1,2), [(0,0)])': 0.8799999999999999, '((1,2), [(2,2)])': 0.96, '((1,2), [(0,0),(2,2)])': 0.84, '((2,2), [])': 0.0, '((2,2), [(0,0)])': 0.8399999999999999, '((2,2), [(2,2)])': 1.0, '((2,2), [(0,0),(2,2)])': 0.84}\n",
            "{'((0,0), [])': 0.0, '((0,0), [(0,0)])': 1.0, '((0,0), [(2,2)])': 0.8399999999999999, '((0,0), [(0,0),(2,2)])': 1.8399999999999999, '((1,0), [])': 0.0, '((1,0), [(0,0)])': 0.96, '((1,0), [(2,2)])': 0.8799999999999999, '((1,0), [(0,0),(2,2)])': 0.7999999999999999, '((2,0), [])': 0.0, '((2,0), [(0,0)])': 0.9199999999999999, '((2,0), [(2,2)])': 0.9199999999999999, '((2,0), [(0,0),(2,2)])': 0.7999999999999999, '((0,1), [])': 0.0, '((0,1), [(0,0)])': 0.96, '((0,1), [(2,2)])': 0.8799999999999999, '((0,1), [(0,0),(2,2)])': 0.7999999999999999, '((1,1), [])': 0.0, '((1,1), [(0,0)])': 0.9199999999999999, '((1,1), [(2,2)])': 0.9199999999999999, '((1,1), [(0,0),(2,2)])': 0.7999999999999999, '((2,1), [])': 0.0, '((2,1), [(0,0)])': 0.8799999999999999, '((2,1), [(2,2)])': 0.96, '((2,1), [(0,0),(2,2)])': 0.7999999999999999, '((0,2), [])': 0.0, '((0,2), [(0,0)])': 0.9199999999999999, '((0,2), [(2,2)])': 0.8399999999999999, '((0,2), [(0,0),(2,2)])': 0.7999999999999999, '((1,2), [])': 0.0, '((1,2), [(0,0)])': 0.7999999999999998, '((1,2), [(2,2)])': 0.96, '((1,2), [(0,0),(2,2)])': 0.7999999999999999, '((2,2), [])': 0.0, '((2,2), [(0,0)])': 0.8399999999999999, '((2,2), [(2,2)])': 1.0, '((2,2), [(0,0),(2,2)])': 1.8399999999999999}\n",
            "{'((0,0), [])': 0.0, '((0,0), [(0,0)])': 1.0, '((0,0), [(2,2)])': 0.8399999999999999, '((0,0), [(0,0),(2,2)])': 1.8399999999999999, '((1,0), [])': 0.0, '((1,0), [(0,0)])': 0.96, '((1,0), [(2,2)])': 0.8799999999999999, '((1,0), [(0,0),(2,2)])': 1.7999999999999998, '((2,0), [])': 0.0, '((2,0), [(0,0)])': 0.9199999999999999, '((2,0), [(2,2)])': 0.9199999999999999, '((2,0), [(0,0),(2,2)])': 0.7599999999999999, '((0,1), [])': 0.0, '((0,1), [(0,0)])': 0.8799999999999999, '((0,1), [(2,2)])': 0.8799999999999999, '((0,1), [(0,0),(2,2)])': 1.7999999999999998, '((1,1), [])': 0.0, '((1,1), [(0,0)])': 0.9199999999999999, '((1,1), [(2,2)])': 0.9199999999999999, '((1,1), [(0,0),(2,2)])': 0.7599999999999999, '((2,1), [])': 0.0, '((2,1), [(0,0)])': 0.8799999999999999, '((2,1), [(2,2)])': 0.96, '((2,1), [(0,0),(2,2)])': 1.7999999999999998, '((0,2), [])': 0.0, '((0,2), [(0,0)])': 0.9199999999999999, '((0,2), [(2,2)])': 0.9199999999999999, '((0,2), [(0,0),(2,2)])': 0.7599999999999999, '((1,2), [])': 0.0, '((1,2), [(0,0)])': 0.8799999999999999, '((1,2), [(2,2)])': 0.96, '((1,2), [(0,0),(2,2)])': 1.7999999999999998, '((2,2), [])': 0.0, '((2,2), [(0,0)])': 0.8399999999999999, '((2,2), [(2,2)])': 1.0, '((2,2), [(0,0),(2,2)])': 1.8399999999999999}\n",
            "{'((0,0), [])': 0.0, '((0,0), [(0,0)])': 1.0, '((0,0), [(2,2)])': 0.8399999999999999, '((0,0), [(0,0),(2,2)])': 1.8399999999999999, '((1,0), [])': 0.0, '((1,0), [(0,0)])': 0.96, '((1,0), [(2,2)])': 0.8799999999999999, '((1,0), [(0,0),(2,2)])': 1.7999999999999998, '((2,0), [])': 0.0, '((2,0), [(0,0)])': 0.9199999999999999, '((2,0), [(2,2)])': 0.9199999999999999, '((2,0), [(0,0),(2,2)])': 1.7599999999999998, '((0,1), [])': 0.0, '((0,1), [(0,0)])': 0.8799999999999999, '((0,1), [(2,2)])': 0.8799999999999999, '((0,1), [(0,0),(2,2)])': 1.7999999999999998, '((1,1), [])': 0.0, '((1,1), [(0,0)])': 0.8399999999999999, '((1,1), [(2,2)])': 0.9199999999999999, '((1,1), [(0,0),(2,2)])': 1.7599999999999998, '((2,1), [])': 0.0, '((2,1), [(0,0)])': 0.8799999999999999, '((2,1), [(2,2)])': 0.96, '((2,1), [(0,0),(2,2)])': 1.7999999999999998, '((0,2), [])': 0.0, '((0,2), [(0,0)])': 0.8399999999999999, '((0,2), [(2,2)])': 0.8399999999999999, '((0,2), [(0,0),(2,2)])': 1.7599999999999998, '((1,2), [])': 0.0, '((1,2), [(0,0)])': 0.8799999999999999, '((1,2), [(2,2)])': 0.96, '((1,2), [(0,0),(2,2)])': 1.7999999999999998, '((2,2), [])': 0.0, '((2,2), [(0,0)])': 0.8399999999999999, '((2,2), [(2,2)])': 1.0, '((2,2), [(0,0),(2,2)])': 1.8399999999999999}\n",
            "{'((0,0), [])': 0.0, '((0,0), [(0,0)])': 1.0, '((0,0), [(2,2)])': 0.8399999999999999, '((0,0), [(0,0),(2,2)])': 1.8399999999999999, '((1,0), [])': 0.0, '((1,0), [(0,0)])': 0.96, '((1,0), [(2,2)])': 0.8799999999999999, '((1,0), [(0,0),(2,2)])': 1.7999999999999998, '((2,0), [])': 0.0, '((2,0), [(0,0)])': 0.9199999999999999, '((2,0), [(2,2)])': 0.9199999999999999, '((2,0), [(0,0),(2,2)])': 1.7599999999999998, '((0,1), [])': 0.0, '((0,1), [(0,0)])': 0.7999999999999998, '((0,1), [(2,2)])': 0.8799999999999999, '((0,1), [(0,0),(2,2)])': 1.7999999999999998, '((1,1), [])': 0.0, '((1,1), [(0,0)])': 0.8399999999999999, '((1,1), [(2,2)])': 0.9199999999999999, '((1,1), [(0,0),(2,2)])': 1.7599999999999998, '((2,1), [])': 0.0, '((2,1), [(0,0)])': 0.8799999999999999, '((2,1), [(2,2)])': 0.96, '((2,1), [(0,0),(2,2)])': 1.7999999999999998, '((0,2), [])': 0.0, '((0,2), [(0,0)])': 0.8399999999999999, '((0,2), [(2,2)])': 0.9199999999999999, '((0,2), [(0,0),(2,2)])': 1.7599999999999998, '((1,2), [])': 0.0, '((1,2), [(0,0)])': 0.7999999999999998, '((1,2), [(2,2)])': 0.96, '((1,2), [(0,0),(2,2)])': 1.7999999999999998, '((2,2), [])': 0.0, '((2,2), [(0,0)])': 0.8399999999999999, '((2,2), [(2,2)])': 1.0, '((2,2), [(0,0),(2,2)])': 1.8399999999999999}\n",
            "{'((0,0), [])': 0.0, '((0,0), [(0,0)])': 1.0, '((0,0), [(2,2)])': 0.8399999999999999, '((0,0), [(0,0),(2,2)])': 1.8399999999999999, '((1,0), [])': 0.0, '((1,0), [(0,0)])': 0.96, '((1,0), [(2,2)])': 0.8799999999999999, '((1,0), [(0,0),(2,2)])': 1.7999999999999998, '((2,0), [])': 0.0, '((2,0), [(0,0)])': 0.9199999999999999, '((2,0), [(2,2)])': 0.9199999999999999, '((2,0), [(0,0),(2,2)])': 1.7599999999999998, '((0,1), [])': 0.0, '((0,1), [(0,0)])': 0.96, '((0,1), [(2,2)])': 0.8799999999999999, '((0,1), [(0,0),(2,2)])': 1.7999999999999998, '((1,1), [])': 0.0, '((1,1), [(0,0)])': 0.9199999999999999, '((1,1), [(2,2)])': 0.9199999999999999, '((1,1), [(0,0),(2,2)])': 1.7599999999999998, '((2,1), [])': 0.0, '((2,1), [(0,0)])': 0.8799999999999999, '((2,1), [(2,2)])': 0.96, '((2,1), [(0,0),(2,2)])': 1.7999999999999998, '((0,2), [])': 0.0, '((0,2), [(0,0)])': 0.7599999999999998, '((0,2), [(2,2)])': 0.8399999999999999, '((0,2), [(0,0),(2,2)])': 1.7599999999999998, '((1,2), [])': 0.0, '((1,2), [(0,0)])': 0.7999999999999998, '((1,2), [(2,2)])': 0.96, '((1,2), [(0,0),(2,2)])': 1.7999999999999998, '((2,2), [])': 0.0, '((2,2), [(0,0)])': 0.8399999999999999, '((2,2), [(2,2)])': 1.0, '((2,2), [(0,0),(2,2)])': 1.8399999999999999}\n",
            "{'((0,0), [])': 0.0, '((0,0), [(0,0)])': 1.0, '((0,0), [(2,2)])': 0.8399999999999999, '((0,0), [(0,0),(2,2)])': 1.8399999999999999, '((1,0), [])': 0.0, '((1,0), [(0,0)])': 0.96, '((1,0), [(2,2)])': 0.8799999999999999, '((1,0), [(0,0),(2,2)])': 1.7999999999999998, '((2,0), [])': 0.0, '((2,0), [(0,0)])': 0.9199999999999999, '((2,0), [(2,2)])': 0.9199999999999999, '((2,0), [(0,0),(2,2)])': 1.7599999999999998, '((0,1), [])': 0.0, '((0,1), [(0,0)])': 0.96, '((0,1), [(2,2)])': 0.8799999999999999, '((0,1), [(0,0),(2,2)])': 1.7199999999999998, '((1,1), [])': 0.0, '((1,1), [(0,0)])': 0.9199999999999999, '((1,1), [(2,2)])': 0.9199999999999999, '((1,1), [(0,0),(2,2)])': 1.7599999999999998, '((2,1), [])': 0.0, '((2,1), [(0,0)])': 0.8799999999999999, '((2,1), [(2,2)])': 0.96, '((2,1), [(0,0),(2,2)])': 1.7999999999999998, '((0,2), [])': 0.0, '((0,2), [(0,0)])': 0.9199999999999999, '((0,2), [(2,2)])': 0.8399999999999999, '((0,2), [(0,0),(2,2)])': 1.4, '((1,2), [])': 0.0, '((1,2), [(0,0)])': 0.8799999999999999, '((1,2), [(2,2)])': 0.96, '((1,2), [(0,0),(2,2)])': 1.7999999999999998, '((2,2), [])': 0.0, '((2,2), [(0,0)])': 0.8399999999999999, '((2,2), [(2,2)])': 1.0, '((2,2), [(0,0),(2,2)])': 1.8399999999999999}\n",
            "{'((0,0), [])': 0.0, '((0,0), [(0,0)])': 1.0, '((0,0), [(2,2)])': 0.8399999999999999, '((0,0), [(0,0),(2,2)])': 1.8399999999999999, '((1,0), [])': 0.0, '((1,0), [(0,0)])': 0.96, '((1,0), [(2,2)])': 0.8799999999999999, '((1,0), [(0,0),(2,2)])': 1.7999999999999998, '((2,0), [])': 0.0, '((2,0), [(0,0)])': 0.9199999999999999, '((2,0), [(2,2)])': 0.9199999999999999, '((2,0), [(0,0),(2,2)])': 1.7599999999999998, '((0,1), [])': 0.0, '((0,1), [(0,0)])': 0.96, '((0,1), [(2,2)])': 0.8799999999999999, '((0,1), [(0,0),(2,2)])': 1.7999999999999998, '((1,1), [])': 0.0, '((1,1), [(0,0)])': 0.9199999999999999, '((1,1), [(2,2)])': 0.9199999999999999, '((1,1), [(0,0),(2,2)])': 1.7599999999999998, '((2,1), [])': 0.0, '((2,1), [(0,0)])': 0.8799999999999999, '((2,1), [(2,2)])': 0.96, '((2,1), [(0,0),(2,2)])': 1.7999999999999998, '((0,2), [])': 0.0, '((0,2), [(0,0)])': 0.9199999999999999, '((0,2), [(2,2)])': 0.5599999999999999, '((0,2), [(0,0),(2,2)])': 1.7599999999999998, '((1,2), [])': 0.0, '((1,2), [(0,0)])': 0.8799999999999999, '((1,2), [(2,2)])': 0.96, '((1,2), [(0,0),(2,2)])': 1.7999999999999998, '((2,2), [])': 0.0, '((2,2), [(0,0)])': 0.8399999999999999, '((2,2), [(2,2)])': 1.0, '((2,2), [(0,0),(2,2)])': 1.8399999999999999}\n",
            "{'((0,0), [])': 0.0, '((0,0), [(0,0)])': 1.0, '((0,0), [(2,2)])': 0.8399999999999999, '((0,0), [(0,0),(2,2)])': 1.8399999999999999, '((1,0), [])': 0.0, '((1,0), [(0,0)])': 0.96, '((1,0), [(2,2)])': 0.8799999999999999, '((1,0), [(0,0),(2,2)])': 1.7999999999999998, '((2,0), [])': 0.0, '((2,0), [(0,0)])': 0.9199999999999999, '((2,0), [(2,2)])': 0.9199999999999999, '((2,0), [(0,0),(2,2)])': 1.7599999999999998, '((0,1), [])': 0.0, '((0,1), [(0,0)])': 0.96, '((0,1), [(2,2)])': 0.8799999999999999, '((0,1), [(0,0),(2,2)])': 1.7999999999999998, '((1,1), [])': 0.0, '((1,1), [(0,0)])': 0.9199999999999999, '((1,1), [(2,2)])': 0.9199999999999999, '((1,1), [(0,0),(2,2)])': 1.7599999999999998, '((2,1), [])': 0.0, '((2,1), [(0,0)])': 0.8799999999999999, '((2,1), [(2,2)])': 0.96, '((2,1), [(0,0),(2,2)])': 1.7999999999999998, '((0,2), [])': 0.0, '((0,2), [(0,0)])': 0.9199999999999999, '((0,2), [(2,2)])': 0.8399999999999999, '((0,2), [(0,0),(2,2)])': 1.7599999999999998, '((1,2), [])': 0.0, '((1,2), [(0,0)])': 0.8799999999999999, '((1,2), [(2,2)])': 0.96, '((1,2), [(0,0),(2,2)])': 1.7999999999999998, '((2,2), [])': 0.0, '((2,2), [(0,0)])': 0.8399999999999999, '((2,2), [(2,2)])': 1.0, '((2,2), [(0,0),(2,2)])': 1.8399999999999999}\n",
            "{'((0,0), [])': 0.0, '((0,0), [(0,0)])': 1.0, '((0,0), [(2,2)])': 0.8399999999999999, '((0,0), [(0,0),(2,2)])': 1.8399999999999999, '((1,0), [])': 0.0, '((1,0), [(0,0)])': 0.96, '((1,0), [(2,2)])': 0.8799999999999999, '((1,0), [(0,0),(2,2)])': 1.7999999999999998, '((2,0), [])': 0.0, '((2,0), [(0,0)])': 0.9199999999999999, '((2,0), [(2,2)])': 0.9199999999999999, '((2,0), [(0,0),(2,2)])': 1.7599999999999998, '((0,1), [])': 0.0, '((0,1), [(0,0)])': 0.96, '((0,1), [(2,2)])': 0.8799999999999999, '((0,1), [(0,0),(2,2)])': 1.7199999999999998, '((1,1), [])': 0.0, '((1,1), [(0,0)])': 0.9199999999999999, '((1,1), [(2,2)])': 0.9199999999999999, '((1,1), [(0,0),(2,2)])': 1.7599999999999998, '((2,1), [])': 0.0, '((2,1), [(0,0)])': 0.8799999999999999, '((2,1), [(2,2)])': 0.96, '((2,1), [(0,0),(2,2)])': 1.7999999999999998, '((0,2), [])': 0.0, '((0,2), [(0,0)])': 0.9199999999999999, '((0,2), [(2,2)])': 0.8399999999999999, '((0,2), [(0,0),(2,2)])': 1.7599999999999998, '((1,2), [])': 0.0, '((1,2), [(0,0)])': 0.8799999999999999, '((1,2), [(2,2)])': 0.96, '((1,2), [(0,0),(2,2)])': 1.7999999999999998, '((2,2), [])': 0.0, '((2,2), [(0,0)])': 0.8399999999999999, '((2,2), [(2,2)])': 1.0, '((2,2), [(0,0),(2,2)])': 1.8399999999999999}\n",
            "{'((0,0), [])': 0.0, '((0,0), [(0,0)])': 1.0, '((0,0), [(2,2)])': 0.8399999999999999, '((0,0), [(0,0),(2,2)])': 1.8399999999999999, '((1,0), [])': 0.0, '((1,0), [(0,0)])': 0.96, '((1,0), [(2,2)])': 0.8799999999999999, '((1,0), [(0,0),(2,2)])': 1.7999999999999998, '((2,0), [])': 0.0, '((2,0), [(0,0)])': 0.9199999999999999, '((2,0), [(2,2)])': 0.9199999999999999, '((2,0), [(0,0),(2,2)])': 1.7599999999999998, '((0,1), [])': 0.0, '((0,1), [(0,0)])': 0.96, '((0,1), [(2,2)])': 0.8799999999999999, '((0,1), [(0,0),(2,2)])': 1.7999999999999998, '((1,1), [])': 0.0, '((1,1), [(0,0)])': 0.9199999999999999, '((1,1), [(2,2)])': 0.9199999999999999, '((1,1), [(0,0),(2,2)])': 1.7599999999999998, '((2,1), [])': 0.0, '((2,1), [(0,0)])': 0.8799999999999999, '((2,1), [(2,2)])': 0.96, '((2,1), [(0,0),(2,2)])': 1.7999999999999998, '((0,2), [])': 0.0, '((0,2), [(0,0)])': 0.9199999999999999, '((0,2), [(2,2)])': 0.8399999999999999, '((0,2), [(0,0),(2,2)])': 1.6799999999999997, '((1,2), [])': 0.0, '((1,2), [(0,0)])': 0.8799999999999999, '((1,2), [(2,2)])': 0.96, '((1,2), [(0,0),(2,2)])': 1.7999999999999998, '((2,2), [])': 0.0, '((2,2), [(0,0)])': 0.8399999999999999, '((2,2), [(2,2)])': 1.0, '((2,2), [(0,0),(2,2)])': 1.8399999999999999}\n",
            "{'((0,0), [])': 0.0, '((0,0), [(0,0)])': 1.0, '((0,0), [(2,2)])': 0.8399999999999999, '((0,0), [(0,0),(2,2)])': 1.8399999999999999, '((1,0), [])': 0.0, '((1,0), [(0,0)])': 0.96, '((1,0), [(2,2)])': 0.8799999999999999, '((1,0), [(0,0),(2,2)])': 1.7999999999999998, '((2,0), [])': 0.0, '((2,0), [(0,0)])': 0.9199999999999999, '((2,0), [(2,2)])': 0.9199999999999999, '((2,0), [(0,0),(2,2)])': 1.7599999999999998, '((0,1), [])': 0.0, '((0,1), [(0,0)])': 0.96, '((0,1), [(2,2)])': 0.8799999999999999, '((0,1), [(0,0),(2,2)])': 1.7199999999999998, '((1,1), [])': 0.0, '((1,1), [(0,0)])': 0.9199999999999999, '((1,1), [(2,2)])': 0.9199999999999999, '((1,1), [(0,0),(2,2)])': 1.7599999999999998, '((2,1), [])': 0.0, '((2,1), [(0,0)])': 0.8799999999999999, '((2,1), [(2,2)])': 0.96, '((2,1), [(0,0),(2,2)])': 1.7999999999999998, '((0,2), [])': 0.0, '((0,2), [(0,0)])': 0.9199999999999999, '((0,2), [(2,2)])': 0.8399999999999999, '((0,2), [(0,0),(2,2)])': 1.7599999999999998, '((1,2), [])': 0.0, '((1,2), [(0,0)])': 0.8799999999999999, '((1,2), [(2,2)])': 0.96, '((1,2), [(0,0),(2,2)])': 1.7999999999999998, '((2,2), [])': 0.0, '((2,2), [(0,0)])': 0.8399999999999999, '((2,2), [(2,2)])': 1.0, '((2,2), [(0,0),(2,2)])': 1.8399999999999999}\n",
            "{'((0,0), [])': 0.0, '((0,0), [(0,0)])': 1.0, '((0,0), [(2,2)])': 0.8399999999999999, '((0,0), [(0,0),(2,2)])': 1.8399999999999999, '((1,0), [])': 0.0, '((1,0), [(0,0)])': 0.96, '((1,0), [(2,2)])': 0.8799999999999999, '((1,0), [(0,0),(2,2)])': 1.7999999999999998, '((2,0), [])': 0.0, '((2,0), [(0,0)])': 0.9199999999999999, '((2,0), [(2,2)])': 0.9199999999999999, '((2,0), [(0,0),(2,2)])': 1.7599999999999998, '((0,1), [])': 0.0, '((0,1), [(0,0)])': 0.96, '((0,1), [(2,2)])': 0.8799999999999999, '((0,1), [(0,0),(2,2)])': 1.7999999999999998, '((1,1), [])': 0.0, '((1,1), [(0,0)])': 0.9199999999999999, '((1,1), [(2,2)])': 0.9199999999999999, '((1,1), [(0,0),(2,2)])': 1.7599999999999998, '((2,1), [])': 0.0, '((2,1), [(0,0)])': 0.8799999999999999, '((2,1), [(2,2)])': 0.96, '((2,1), [(0,0),(2,2)])': 1.7999999999999998, '((0,2), [])': 0.0, '((0,2), [(0,0)])': 0.9199999999999999, '((0,2), [(2,2)])': 0.9199999999999999, '((0,2), [(0,0),(2,2)])': 1.6799999999999997, '((1,2), [])': 0.0, '((1,2), [(0,0)])': 0.8799999999999999, '((1,2), [(2,2)])': 0.96, '((1,2), [(0,0),(2,2)])': 1.7999999999999998, '((2,2), [])': 0.0, '((2,2), [(0,0)])': 0.8399999999999999, '((2,2), [(2,2)])': 1.0, '((2,2), [(0,0),(2,2)])': 1.8399999999999999}\n",
            "{'((0,0), [])': 0.0, '((0,0), [(0,0)])': 1.0, '((0,0), [(2,2)])': 0.8399999999999999, '((0,0), [(0,0),(2,2)])': 1.8399999999999999, '((1,0), [])': 0.0, '((1,0), [(0,0)])': 0.96, '((1,0), [(2,2)])': 0.8799999999999999, '((1,0), [(0,0),(2,2)])': 1.7999999999999998, '((2,0), [])': 0.0, '((2,0), [(0,0)])': 0.9199999999999999, '((2,0), [(2,2)])': 0.9199999999999999, '((2,0), [(0,0),(2,2)])': 1.7599999999999998, '((0,1), [])': 0.0, '((0,1), [(0,0)])': 0.8799999999999999, '((0,1), [(2,2)])': 0.8799999999999999, '((0,1), [(0,0),(2,2)])': 1.7999999999999998, '((1,1), [])': 0.0, '((1,1), [(0,0)])': 0.9199999999999999, '((1,1), [(2,2)])': 0.9199999999999999, '((1,1), [(0,0),(2,2)])': 1.7599999999999998, '((2,1), [])': 0.0, '((2,1), [(0,0)])': 0.8799999999999999, '((2,1), [(2,2)])': 0.96, '((2,1), [(0,0),(2,2)])': 1.7999999999999998, '((0,2), [])': 0.0, '((0,2), [(0,0)])': 0.9199999999999999, '((0,2), [(2,2)])': 0.8399999999999999, '((0,2), [(0,0),(2,2)])': 1.7599999999999998, '((1,2), [])': 0.0, '((1,2), [(0,0)])': 0.8799999999999999, '((1,2), [(2,2)])': 0.96, '((1,2), [(0,0),(2,2)])': 1.7999999999999998, '((2,2), [])': 0.0, '((2,2), [(0,0)])': 0.8399999999999999, '((2,2), [(2,2)])': 1.0, '((2,2), [(0,0),(2,2)])': 1.8399999999999999}\n",
            "{'((0,0), [])': 0.0, '((0,0), [(0,0)])': 1.0, '((0,0), [(2,2)])': 0.8399999999999999, '((0,0), [(0,0),(2,2)])': 1.8399999999999999, '((1,0), [])': 0.0, '((1,0), [(0,0)])': 0.96, '((1,0), [(2,2)])': 0.8799999999999999, '((1,0), [(0,0),(2,2)])': 1.7999999999999998, '((2,0), [])': 0.0, '((2,0), [(0,0)])': 0.9199999999999999, '((2,0), [(2,2)])': 0.9199999999999999, '((2,0), [(0,0),(2,2)])': 1.7599999999999998, '((0,1), [])': 0.0, '((0,1), [(0,0)])': 0.96, '((0,1), [(2,2)])': 0.8799999999999999, '((0,1), [(0,0),(2,2)])': 1.7999999999999998, '((1,1), [])': 0.0, '((1,1), [(0,0)])': 0.9199999999999999, '((1,1), [(2,2)])': 0.9199999999999999, '((1,1), [(0,0),(2,2)])': 1.7599999999999998, '((2,1), [])': 0.0, '((2,1), [(0,0)])': 0.8799999999999999, '((2,1), [(2,2)])': 0.96, '((2,1), [(0,0),(2,2)])': 1.7999999999999998, '((0,2), [])': 0.0, '((0,2), [(0,0)])': 0.8399999999999999, '((0,2), [(2,2)])': 0.8399999999999999, '((0,2), [(0,0),(2,2)])': 1.7599999999999998, '((1,2), [])': 0.0, '((1,2), [(0,0)])': 0.8799999999999999, '((1,2), [(2,2)])': 0.96, '((1,2), [(0,0),(2,2)])': 1.7999999999999998, '((2,2), [])': 0.0, '((2,2), [(0,0)])': 0.8399999999999999, '((2,2), [(2,2)])': 1.0, '((2,2), [(0,0),(2,2)])': 1.8399999999999999}\n",
            "{'((0,0), [])': 0.0, '((0,0), [(0,0)])': 1.0, '((0,0), [(2,2)])': 0.8399999999999999, '((0,0), [(0,0),(2,2)])': 1.8399999999999999, '((1,0), [])': 0.0, '((1,0), [(0,0)])': 0.96, '((1,0), [(2,2)])': 0.8799999999999999, '((1,0), [(0,0),(2,2)])': 1.7999999999999998, '((2,0), [])': 0.0, '((2,0), [(0,0)])': 0.9199999999999999, '((2,0), [(2,2)])': 0.9199999999999999, '((2,0), [(0,0),(2,2)])': 1.7599999999999998, '((0,1), [])': 0.0, '((0,1), [(0,0)])': 0.96, '((0,1), [(2,2)])': 0.8799999999999999, '((0,1), [(0,0),(2,2)])': 1.7999999999999998, '((1,1), [])': 0.0, '((1,1), [(0,0)])': 0.9199999999999999, '((1,1), [(2,2)])': 0.9199999999999999, '((1,1), [(0,0),(2,2)])': 1.7599999999999998, '((2,1), [])': 0.0, '((2,1), [(0,0)])': 0.8799999999999999, '((2,1), [(2,2)])': 0.96, '((2,1), [(0,0),(2,2)])': 1.7999999999999998, '((0,2), [])': 0.0, '((0,2), [(0,0)])': 0.9199999999999999, '((0,2), [(2,2)])': 0.8399999999999999, '((0,2), [(0,0),(2,2)])': 1.7599999999999998, '((1,2), [])': 0.0, '((1,2), [(0,0)])': 0.8799999999999999, '((1,2), [(2,2)])': 0.96, '((1,2), [(0,0),(2,2)])': 1.7999999999999998, '((2,2), [])': 0.0, '((2,2), [(0,0)])': 0.8399999999999999, '((2,2), [(2,2)])': 1.0, '((2,2), [(0,0),(2,2)])': 1.8399999999999999}\n",
            "{'((0,0), [])': 0.0, '((0,0), [(0,0)])': 1.0, '((0,0), [(2,2)])': 0.8399999999999999, '((0,0), [(0,0),(2,2)])': 1.8399999999999999, '((1,0), [])': 0.0, '((1,0), [(0,0)])': 0.96, '((1,0), [(2,2)])': 0.8799999999999999, '((1,0), [(0,0),(2,2)])': 1.7999999999999998, '((2,0), [])': 0.0, '((2,0), [(0,0)])': 0.9199999999999999, '((2,0), [(2,2)])': 0.9199999999999999, '((2,0), [(0,0),(2,2)])': 1.7599999999999998, '((0,1), [])': 0.0, '((0,1), [(0,0)])': 0.96, '((0,1), [(2,2)])': 0.8799999999999999, '((0,1), [(0,0),(2,2)])': 1.7999999999999998, '((1,1), [])': 0.0, '((1,1), [(0,0)])': 0.9199999999999999, '((1,1), [(2,2)])': 0.9199999999999999, '((1,1), [(0,0),(2,2)])': 1.7599999999999998, '((2,1), [])': 0.0, '((2,1), [(0,0)])': 0.8799999999999999, '((2,1), [(2,2)])': 0.96, '((2,1), [(0,0),(2,2)])': 1.7999999999999998, '((0,2), [])': 0.0, '((0,2), [(0,0)])': 0.9199999999999999, '((0,2), [(2,2)])': 0.8399999999999999, '((0,2), [(0,0),(2,2)])': 1.7599999999999998, '((1,2), [])': 0.0, '((1,2), [(0,0)])': 0.8799999999999999, '((1,2), [(2,2)])': 0.96, '((1,2), [(0,0),(2,2)])': 1.7999999999999998, '((2,2), [])': 0.0, '((2,2), [(0,0)])': 0.8399999999999999, '((2,2), [(2,2)])': 1.0, '((2,2), [(0,0),(2,2)])': 1.8399999999999999}\n"
          ],
          "name": "stdout"
        }
      ]
    },
    {
      "cell_type": "code",
      "metadata": {
        "colab": {
          "base_uri": "https://localhost:8080/"
        },
        "id": "pwUdzbiffNNj",
        "outputId": "c5d8c2a6-61e2-4ce7-e235-d6ed13e75b22"
      },
      "source": [
        "pi_star_stocastic = policy_generation(stochastic_environment, U_stocastic)\n",
        "\n",
        "print_policy(pi_star_stocastic)"
      ],
      "id": "pwUdzbiffNNj",
      "execution_count": null,
      "outputs": [
        {
          "output_type": "stream",
          "text": [
            "{'((0,0), [(0,0)])': <Action.Deliver: 5>, '((0,0), [(2,2)])': <Action.Down: 2>, '((0,0), [(0,0),(2,2)])': <Action.Deliver: 5>, '((1,0), [(0,0)])': <Action.Left: 3>, '((1,0), [(2,2)])': <Action.Down: 2>, '((1,0), [(0,0),(2,2)])': <Action.Left: 3>, '((2,0), [(0,0)])': <Action.Left: 3>, '((2,0), [(2,2)])': <Action.Down: 2>, '((2,0), [(0,0),(2,2)])': <Action.Down: 2>, '((0,1), [(0,0)])': <Action.Up: 1>, '((0,1), [(2,2)])': <Action.Right: 4>, '((0,1), [(0,0),(2,2)])': <Action.Up: 1>, '((1,1), [(0,0)])': <Action.Left: 3>, '((1,1), [(2,2)])': <Action.Down: 2>, '((1,1), [(0,0),(2,2)])': <Action.Up: 1>, '((2,1), [(0,0)])': <Action.Up: 1>, '((2,1), [(2,2)])': <Action.Down: 2>, '((2,1), [(0,0),(2,2)])': <Action.Down: 2>, '((0,2), [(0,0)])': <Action.Up: 1>, '((0,2), [(2,2)])': <Action.Right: 4>, '((0,2), [(0,0),(2,2)])': <Action.Up: 1>, '((1,2), [(0,0)])': <Action.Up: 1>, '((1,2), [(2,2)])': <Action.Right: 4>, '((1,2), [(0,0),(2,2)])': <Action.Right: 4>, '((2,2), [(0,0)])': <Action.Up: 1>, '((2,2), [(2,2)])': <Action.Deliver: 5>, '((2,2), [(0,0),(2,2)])': <Action.Deliver: 5>}\n"
          ],
          "name": "stdout"
        }
      ]
    },
    {
      "cell_type": "markdown",
      "metadata": {
        "id": "oHo9CW2dt8Z6"
      },
      "source": [
        "Finally, we measure it's performance"
      ],
      "id": "oHo9CW2dt8Z6"
    },
    {
      "cell_type": "code",
      "metadata": {
        "colab": {
          "base_uri": "https://localhost:8080/"
        },
        "id": "VopXHL-St_qh",
        "outputId": "9feab9d5-45ad-4462-d98e-915ea9ecfa2a"
      },
      "source": [
        " def policy_value_iteration_stocastic(state: Truck):\n",
        "     return pi_star_stocastic[str(state)]\n",
        "\n",
        "measure_performance(policy_value_iteration_stocastic, stochastic_environment)\n"
      ],
      "id": "VopXHL-St_qh",
      "execution_count": null,
      "outputs": [
        {
          "output_type": "stream",
          "text": [
            "statistics over 100 episodes\n",
            "mean:   1.53, sigma:   0.25\n",
            "\n",
            "ep:  1, total reward:  1.04\n",
            "ep:  2, total reward:  1.40\n",
            "ep:  3, total reward:  1.04\n",
            "ep:  4, total reward:  1.76\n",
            "ep:  5, total reward:  1.40\n",
            ".....\n",
            "ep: 95, total reward:  1.76\n",
            "ep: 96, total reward:  1.40\n",
            "ep: 97, total reward:  1.40\n",
            "ep: 98, total reward:  1.40\n",
            "ep: 99, total reward:  1.04\n"
          ],
          "name": "stdout"
        }
      ]
    },
    {
      "cell_type": "markdown",
      "metadata": {
        "id": "o0wN3TrqiWMh"
      },
      "source": [
        "# **Example policies**\n",
        "With our stochastic world we will have three policies per state. The first policy state is where we only need to deliver to 0,0.\n",
        "\n",
        "This results in these policies. \n",
        "For every interesection(dot) has it's coordinates and the recommended action. The specified number between roads(connection) shows the probability for a traffic jam.\n",
        "\n",
        "The policies for these state look like this:"
      ],
      "id": "o0wN3TrqiWMh"
    },
    {
      "cell_type": "markdown",
      "metadata": {
        "id": "xyuDurZb8l43"
      },
      "source": [
        ""
      ],
      "id": "xyuDurZb8l43"
    },
    {
      "cell_type": "markdown",
      "metadata": {
        "id": "OVBaCSU2YUT7"
      },
      "source": [
        "![Untitled Diagram.png](data:image/png;base64,iVBORw0KGgoAAAANSUhEUgAAAbkAAAF9CAYAAACZLRaKAAAgAElEQVR4Xu2dW2gW1/rGX4lQKqQqHqGai2hQc2FtjDt/NRGRQEXBtmzwgI2lom08IGhRt0KMMaBbbRVCtsZalGqLh4tdKygWgoiJSmi06kVUomFjLXioqC0ohYh/3tWOfn7Jl1kz36zDzHrmxt2dNevwvL9vPbNm1qHXixcvXhAuKAAFoAAUgAIJVKAXTC6BUUWToAAUgAJQQCgAkwMIUAAKQAEokFgFYHKJDS0aBgWgABSAAjA5MAAFoAAUgAKJVQAml9jQomFQAApAASgAkwMDUAAKQAEokFgFYHKJDS0aBgWgABSAAjA5MAAFoAAUgAKJVQAml9jQomFQAApAASgAkwMDUAAKQAEokFgFYHKJDS0aBgWgABSAAjA5MAAFoAAUgAKJVQAml9jQomFQAApAASgAkwMDUAAKQAEokFgFYHKJDS0aBgWgABSAAjA5MAAFoAAUgAKJVQAml9jQomFQAApAASgAkwMDUAAKQAEokFgFYHKJDS0aBgWgABSAAokzuZ9++omuXLlC165do1u3btGdO3fo/v379PjxY3r69Ck9f/6ccnJyqE+fPtSvXz8aPHgwDRs2jEaMGEFjxoyhd955hyZMmAAyoEAoBcBfKNlwU0QKgL+uQsbe5C5dukSnTp2i06dPU1NTExUWFtK4cePEvyNHjqThw4fTkCFDhKGxsbHBsdGx4bHx3bt3j3755Re6efMmtbW10eXLl8W/ZWVlNG3aNJo+fToVFRVFhCCySZoC4C9pEY1Xe8Cff7xiaXLt7e303Xff0dGjR4VhzZgxg8rLy2nKlCmUm5vr32qfFH/88QedPXuWGhsb6eTJk8IYZ8+eTfPnz6eCgoKs80cG8VYA/MU7fnGvPfgLFsFYmRyP2BoaGqi5uZkqKipo7ty5VFJSEqzFIVK3tLTQ4cOH6eDBg1RaWkqVlZVihIfLLQXAn1vxtq214C9cRGJhcidOnKDt27fTkydPaOnSpbR48eJwrY3grr1799KuXbuob9++tHr1apo5c2YEuSILmxUAfzZHJ/l1A3/Zxdhqk+MJJNXV1dTR0UFr164Vrwttufh16datWyk/P59qamrEhBVcyVIA/CUrnnFrDfiLJmLWmtzGjRvF6K22tpZWrVoVTWsV5LJjxw6qqqoSozquM65kKAD+khHHuLYC/EUXOetMjmcLLV++nPLy8oTJ8exI2y+enckmd/v2baqvr8dsTNsD1kP9wF+Mg5eAqoO/6INolcl9/fXX4nvb7t27xeSOuF08KWbJkiXE3+0WLVoUt+o7X1/w5zwCRgUAf2rkt8bk1qxZI9a77du3j4qLi9W0VkOura2ttHDhQjH7ctu2bRpKRBFRKAD+olAReYRVAPyFVc7/PitMjpcD8MxJnswRxTo3/2arTcHr7HiSDM/A5GUHuOxWAPzZHZ+k1w78qY2wcZP74IMPqH///rR//361LTWQ+yeffEKPHj2iY8eOGSgdRcooAP5kVEIaVQqAP1XKvsrXqMlxgIcOHSoWeCf14m+Ld+/ehdFZGGDwZ2FQHKoS+NMTbGMmx0P03r17J3IElx46HtF1dnbi1aUepqVKAX9SMiGRIgXAnyJhu8nWiMnxR9br16/T8ePH9bXUcEmzZs2i0aNHYzKK4Thw8eDPgiA4XAXwpzf42k2Op8nW1dXRuXPnEjHJRDZcPBll8uTJtGLFCiwvkBVNQTrwB/4UYCWdJfjTz59Wk+OFjuPHjyc+8yjOywSkiU5LyMsL+Ky6ixcvYsF4WBGzuA/8gb8s8Mn6VvBnhj+tJjdp0iRasGBBLBd6Z0343xnwJJsDBw7Q+fPno8oS+UgqAP5ITPICf5LARJwM/JnhT5vJ8V5s/B2Oj6xx/eIjgvj7HPa61EcC+HulNfjTx51XEvgzx58Wk+PdtPkphk0uDntRqv4J8F6XbHI8msPpBarVJgJ/r2sM/tQzl1oC+DPLnxaT4/UgfGq3zacJ6MWeiE8v4NPHsVBcvfLgr6vG4E89d14J4M8sf8pNjg/8W7duHV29elUfVTEpaezYsbRlyxYcvKowXuAvs7jgTyF4f2cN/szzp9zkpk6dKk4WsOnAU/Voy5XAe3XyiQVnzpyRuwGpAisA/jJLBv4C4xT4BvBnnj+lJsenCvAo7ueffw4Mhys3vPvuu2I0x6cW4IpWAfDnryf489cobArw56+cDv6Umhy/i545c6YYyeHqXgEeyfErDXybi54Q8OevKfjz1yhsCvDnr5wO/pSZXHt7O02cOJF+++03/5Y6nmLgwIF04cIFKigocFyJ6JoP/uS1BH/yWsmmBH+yShGp5k+ZyfG6ED4jbufOnfKtdTTlypUrxdlzWDcXHQDgT15L8CevlWxK8CerFJFq/pSZXGFhoThhoKSkRL61jqZsaWkhPqmgra3NUQWibzb4k9cU/MlrJZsS/MkqRaSaPyUmx3u0zZs3j27cuCHfUsdTjho1ig4dOoQ9LSPgAPwFFxH8Bdcs0x3gL7iWKvlTYnKbN2+mBw8eGHtVyeY6Z84csdPFpk2bqKqqqlvVZdMFD1nwO3jIPmjQIFq/fn3wm3HHawqY5s+rTG1tLeXn52dcPgP+kgmuSf6ePXsmXv/t2bNHiPvZZ5+JfvjNN9/sIrYr/CkxufLyciE0z6zUfT18+FB0KmxsRUVFoh5lZWVdOhrZdLrqzzMsGcbGxkZdRSa2HJP8pRrchg0b6Ntvv+3W5MBfYvEjk/zx2ke+uA/0DM/1/k+Jyb3xxhtiVmVubq52kvnphD/61tfX04ABA4iD3tTU1OVpRjadrgbweXM8y+jPP//UVWRiyzHJn9exvP3220LfTCM58JdY/Mgkf+mqov8jitzk+Ky4Tz/91NgCcD6M9eDBgy9Njf+bXxtxsNn0vEs2nc6fIi+M/Oqrr8SZc7jCKWCav9Ra9/S6EvyFi6/td9nEH2vFDPKV/snGJf4iNzk++ZYF5JmVJq70J5dMJiebTmcbeIYlnx6+aNEincUmqizT/MmaHPhLFHYvG2MTf5n6Pq6sS/xFbnKff/45DR06lFavXm2EYtknFNl0Ohuxfft2unv3Ln355Zc6i01UWab5kzU58Jco7F42xhb+mK9ly5bRkSNHiGcupl8u8Re5yfFWNh9//DF9+OGHRiiW/dYhm05nI77//nv65ptvsMVXFqKb5k/W5MBfFkG2+FYb+ONRGn+ySf9EkyqbS/xFbnLFxcXU0NBA/K+JS3bWmmw6nW1obW2lyspK4n9NXjZNLQ6qg2n+ZE0O/AWN7F/fl3jGKh80nGmEEjzXaO8wzV9PryhTW+oSf5GbXF5envgmZ/IE8EyddPpEANs6cz6xmb/J3b59O9pfXoDcbIQ/QPXJBv68+qbzBv6CRPL1tKnfkHixdXeTycLnHt2dpvnzHgRSW+Stlfviiy9em+3rSv8Xucm99dZb9OuvvxpZPuCHKgf1+vXr9P777/slNfJ3XkbAU89///13I+VzoTa+xggiBvgLotbraW3gL1PtUx8QUh/E+KHQpgv8hY+GKv4iN7nevXuLtV45OTnhW6vozh9++IFGjx7d7YdYRUUGyvb58+dijU1nZ2eg+6JMbOMH6SDtA39B1Ho9rQ38dVd7b+1hRUWFeNPR0yLn8K2P5k7wF15HVfxFbnK9evWiFy9ehG+p43eyfiYuXkBfXV3tO7W4pqZG6rQEPhHZ1Inn4C88Qab5667m6SM3GZOT5TS8UpnvBH/hVVXhH5GbnM1PMuGl13OnqieZILXHSC6IWslKawN/GMkli6kgrVHFX+QmZ/M76SCCm0ir6p10kLbgm1wQtZKV1gb+MimKb3LJYq271qjiL3KTUzW7qLtZQz2dMJAqojc64d3BeZd/792+bdhgdmX2EVHFn1/Nwk6GYDZLS0vFtPh///vfYp2kt++qX5lR/90G/jK1CbMre442+MusT+Qmp2qdSPoebKkb4WY6SsdrdvoruKg7h6jywzq57JVUxZ9fzcJ2Mqm7xqePov3KjPrvtvDX02gO6+S6Vwf8aTQ5VSv+u9tolDuFFStWUF1dnZgxmbru47333nu54r+7kdzp06dfWzPCnU1HR4fYyLSnfHj0eO/ePfq///u/jOc0he18sONJWOVe3aeKP7+a+XUy3oiN8/HWLf33v/+ljz76SGT9r3/9S2xq/uOPP1Iqu37lRvl38Je9muAvvIaq+It8JKdq77buTC51ajEvDfDOkeNpxpye1+vxGW28eJS3uUl9Xcmh8E4r4P/N587xa0y/fHraDy58eP+6E3tXZqsgkSr+/GrWk8mlPozx61RmjddD8gNV+sNV6jFRfmVG/Xfwl72i4C+8hqr4i9zkVO3C7WdyLG3qLgipr354AXi6yfHZbd4okO/1OhdO21M+KndawCkE4X8g3p2q+POrWU8m192O794DFo/mUt8gmDQ58OcXZf+/gz9/jTKlUMVf5Can6jyl7kwutWNh4fgDfurl7XHHB7imm5x3ajiP3v73v/+97GhSXyt5eaXnk+k4+fDh/etOnCeXrYJEqvjzq5mfyXmvJb18vFeSp06dssbkwJ9flP3/Dv78NcqUQhV/kZscN0DFybh+3+Q8I+vOgDLNrvReFXGdp02bJnZT6GmSisoJLDgZPPyPI/1OFfz51c7P5LzRWno+tryuBH9+EZb/O/iT18pLqZI/JSZXXl4uvjvMnDkzeGsz3OE3uzK9k0k9bqK715VsaN4EEz7/zjuWQiYfFSO5EydOiO+HjY2NkWnmakYq+PPTUvabHE+QSv1ebMvrSvDnF2H5v4M/ea28lCr5U2JyPMHjwYMHotOO6pJZJ5c6KzL1OI5MI7lMyxD88lFhcvxQMGjQILGOD1d2Cqjgz69Gnsnx7MjUq7m5+eUbAu91eursydSRnJcH39/TWWB+dQnzd/AXRrXu7wF/wbVUyZ8Sk+PZjPPmzRMjJVxyCvAT/qFDh4i/FeLKTgHwF1w/8Bdcs0x3gL/gWqrkT4nJcRMLCwtp//79VFJSErzFjt3R0tJCPLOora3NsZaray74k9cW/MlrJZsS/MkqRaSaP2Umx1Ohnzx5EukrS3nZ4pWSh+p9+/aV2t0/Xi0zV1vwJ689+JPXSjYl+JNV6q81yir7P2Um197eThMnTiSe9YirZwV4zd6FCxeooKAAUkWkAPiTFxL8yWslmxL8ySpFpJo/ZSbHTeQtbniG5eLFi+Vb7FjKvXv3Es8sOnbsmGMtV99c8OevMfjz1yhsCvDnr5wO/pSaHC90XbdundiTD1f3CvACyC1bttD06dMhUcQKgD9/QcGfv0ZhU4A/f+V08KfU5LiJfEI0j+R4X0lcryvA08T5ScbUCdouxAP8ZY4y+FP/CwB/5vlTbnL8Ko5Hc1evXlVPVMxKGDt2rBjFRbloPmYSKK8u+MssMfhTjp/4FIH+r3uddfGn3OS4efxuesqUKbRq1Sr1VMWkhB07dtDZs2fxLU5DvMBfV5HBnwbw/i4C/JnlT4vJXblyhSZNmkS8vdbw4cP10WVpSXwCMx/pc/78eXEiNC61CoC/1/UFf2p5S88d/JnlT4vJcRN53Qib3OHDh/USZmFpc+fOFSbHmuDSowD4e6Uz+NPDXGop4M8cf9pMjpvIo7kFCxZQZWWlfsosKbGhoYEOHDggRnG49CoA/ojAn17mUksDf2b402pyvKfb+PHjxZlfxcXF5mgzVHJraytNmDCBLl68iD0qDcQA/IE/A9i9LBL8meFPq8lxtPnk3Lq6OnFuW25urknmtJbN5yXx8T58GvmiRYu0lo3CXikA/sCfyd8D+NPPn3aTY8DWrFkjvs8dP37cJG9ay541a5b4Drdt2zat5aKwrgqAP1BhUgHwp1d9IybHTayoqKDevXuLkwqSfvEJA52dnXTw4MGkNzU27QN/sQlVIisK/vSF1ZjJcRN5/Qifys0fw5N68SSbu3fvYj2chQEGfxYGxaEqgT89wTZqcp7R9e/fP5EjOh7BPXr0CAanh+VQpXBHA/5CSYebIlAA/EUgok8Wxk3Oe3XJZ8/xXnpJmIzCk0x4r04+IwmvKNVDnG0J/OoI/GWrIu4PqwD4C6uc3H1WmBxXlT/G8q7d+/bti/XyAl4msHDhQnGqACaZyEFoQyrwZ0MU3K0D+FMXe2tMjpvI02v5xILdu3fHcsE4f1tcsmSJOFkAywTUQasqZ/CnSlnkK6MA+JNRKXgaq0yOq88LJpcvX055eXm0ffv2WOx1yXsBrl69mm7fvk319fVY6B2cQ2vuAH/WhMLJioC/6MNuncl5TeS93tjkamtrrT69gHdzr6qqEiaHvSijB9RUjuDPlPIolxUAf9FxYK3JcRN59+7q6mrq6OigtWvXWnXwKk+S2bp1K+Xn51NNTQ1OE4iOSWtyAn/WhMLJioC/aMJutcl5TeSDB3lUxzPgli5dKr7bmbr4e9uuXbvEzEkeveHAU1OR0Fcu+NOnNUrqqgD4y46KWJic10SefcmTO5qbm8WOKXxkSElJSXYKSNzd0tIijgji5QClpaViUgzPnsTllgLgz61429Za8BcuIrEyOa+J7e3tYk3d0aNH6fnz5zRjxgwqLy8Xp49Hsc6O17nxqd2NjY108uRJysnJodmzZ4vXpQUFBeGUxl2JUQD8JSaUsWwI+AsWtliaXGoTeTYSP+GcPn2ampqaqLCwkMaNGyf+HTlypJidOWTIEOrXrx/16dNHGBYb49OnT+nx48d079494tmRN2/epLa2Nrp8+bL4t6ysjKZNmyZGbEVFRcFURWpnFAB/zoTayoaCP/+wxN7k0pvIZ9XxB9tr167RrVu36M6dO3T//n1haGxsbHBsdGx4bHyDBw+mYcOG0YgRI2jMmDFiAgmf+YYLCoRRAPyFUQ33RKUA+OuqZOJMzg+WXr160YsXL/yS4e9QQIkC4E+JrMhUUgEX+YPJScKBZFAgCgVc7GSi0A15RKOAi/zB5KJhB7lAASkFXOxkpIRBIi0KuMgfTE4LWigECvylgIudDGJvjwIu8geTs4c/1MQBBVzsZBwIa2ya6CJ/MLnY4ImKJkEBFzuZJMQtKW1wkT+YXFLoRTtioYCLnUwsAuNIJV3kDybnCNxoph0KuNjJ2KE8auHqN2GYHNiHAhoVgMlpFBtFdVHARf6cMzk+FoeP78EFBUwo4GInY0JnlNm9Ai72f86ZHOCHAiYVgMmZVB9lu6gATM7FqKPNxhSAyRmTHgU7qgBMztHAo9lmFIDJmdEdpbqrAEzO3dij5QYUgMkZEB1FOq0ATM7p8KPxUAAKQIFkKwCTS3Z80TooAAWggNMKwOScDj8ar1KB2tpa2rBhgziI98iRIzRq1Kguxd24cYPmzJkjDvrl67333qPvvvuOBgwYoLJqyBsKOKMATM6ZUKOhOhVgo2pqaqKdO3fSpUuXiA2vO/M6d+4cHTx4UKR78803dVYRZUEBJxRIjMmlPhFv2rSJqqqqugTw2bNntHLlStqzZ4/422efffayc3n48CHNnz+ffvzxR/G3np6+nSADjcxKATa1/Px8wZTHFjM5efLk1/Jl4+vo6OiW16wqgJuhQJoCMm8WkihaIkwutRMpKioSRlZWViY6mNSLOxS++P/3DM9Lxya5ceNGqq+vx6uiJJKusU0eWxUVFcLU0llLrYrX8Xj/X3Nzcxcj1Fh1FJVQBWTfLCSx+YkwuXSDSg1oT6+A0gOP10ZJRFx/m9JHbplMLv3/51eXy5Yty/j9Tn9LUGJSFJB9s5CU9qa2IxEml/5dg/870zeQ9Kdo/m9+jcSG99FHH73887fffttlJJhEANCm6BUIMpJLLb2nEV/0tUSOrigQlsek6JMIk0sfucmYXHoaNkXP8Lzve//5z3/w6igppGtuR5gn5/TOSHOVUVxCFZB9s5DQ5lMiTC7oSE7mtVCq6SU1+GiXOgVkvoFw57N8+XLxLZiXF8g8nKmrMXJOqgIYyb148SLuwQ3yTY47H/725rcWKfVJPO76oP5mFOhuNls6q6mzgjGj10ycXCg1zJuFpOiSiJGc7OzKTE/K6U863PGsWLGC6urqul3Am5Tgox1QAAq4oYDMm4WkKpEIk+PgZFonl7oOKX26Nt/nrZV7+vTpa+vkMJU7qcijXVDATQWwTs7NuKPVUAAKQAEokGAFEjOSS3CM0LQEKYCjdhIUTDQlFgo4Z3I1NTVUXV0di+CgkslTACaXvJjGqUUu9n/OmRw6mTj9JJNXV/CXvJjGqUUu8geTixOhqGvsFXCxk4l90BLUABf5g8klCGA0xX4FXOxk7I+KOzV0kT+YnDt8o6UWKOBiJ2OB7KjC3wq4yB9MDvhDAY0KuNjJaJQXRfko4CJ/MDn8LKCARgVc7GQ0youiYHJdFIDJ4WcBBTQqAJPTKDaK6trh9+pFCdiuOFBkYXKB5EJiKJCdAjC57PTD3dkp4CJ/MLnsmMHdUCCQAi52MoEEQmKlCrjIX+JM7qeffqIrV67QtWvX6NatW3Tnzh26f/8+PX78mHgT5ufPn1NOTg716dOH+vXrR4MHD6Zhw4bRiBEjaMyYMcTHnUyYMEEpaMg8uQqAv+TGNg4tA39doxR7k7t06RKdOnWKTp8+TU1NTVRYWEjjxo0T/44cOZKGDx9OQ4YMEYbGxsYGx0bHhsfGd+/ePfrll1/o5s2b1NbWRpcvXxb/lpWV0bRp02j69OlUVFQUB75RRwMKgD8DoqPIlwqAP38YYmly7e3t4tDTo0ePCsOaMWMGlZeX05QpUyg3N9e/1T4p/vjjDzp79iw1NjbSyZMnhTHOnj1bHMVTUFCQdf7IIN4KgL94xy/utQd/wSIYK5PjEVtDQwPxWW8VFRU0d+5cKikpCdbiEKlbWlro8OHD4kTx0tJSqqysFCM8XG4pAP7cirdtrQV/4SISC5M7ceIEbd++nZ48eUJLly6lxYsXh2ttBHft3buXdu3aRX379qXVq1fTzJkzI8gVWdisAPizOTrJrxv4yy7GVpscTyDhY3E6Ojpo7dq14nWhLRe/Lt26dSvl5+cTH1/BE1ZwJUsB8JeseMatNeAvmohZa3IbN24Uozc+sn3VqlXRtFZBLjt27KCqqioxquM640qGAuAvGXGMayvAX3SRs87keLbQ8uXLKS8vT5gcz460/eLZmWxyt2/fpvr6eszGtD1gPdQP/MU4eAmoOviLPohWmdzXX38tvrft3r1bTO6I28WTYpYsWUL83W7RokVxq77z9QV/ziNgVADwp0Z+a0xuzZo1Yr3bvn37qLi4WE1rNeTa2tpKCxcuFLMvt23bpqFEFBGFAuAvChWRR1gFwF9Y5fzvs8LkeDkAz5zkyRxRrHPzb7baFLzOjifJ8AxMXnaAy24FwJ/d8Ul67cCf2ggbN7kPPviA+vfvT/v371fbUgO5f/LJJ/To0SM6duyYgdJRpIwC4E9GJaRRpQD4U6Xsq3yNmhwHeOjQoWKBd1Iv/rZ49+5dGJ2FAQZ/FgbFoSqBPz3BNmZyPETv3bt3Ikdw6aHjEV1nZydeXephWqoU8CclExIpUgD8KRK2m2yNmBx/ZL1+/TodP35cX0sNlzRr1iwaPXo0JqMYjgMXD/4sCILDVQB/eoOv3eR4mmxdXR2dO3cuEZNMZMPFk1EmT55MK1aswPICWdEUpAN/4E8BVtJZgj/9/Gk1OV7oOH78eOIzj+K8TECa6LSEvLyAz6q7ePEiFoyHFTGL+8Af+MsCn6xvBX9m+NNqcpMmTaIFCxbEcqF31oT/nQFPsjlw4ACdP38+qiyRj6QC4I/EJC/wJwlMxMnAnxn+tJkc78XG3+H4yBrXLz4iiL/PYa9LfSSAv1dagz993HklgT9z/GkxOd5Nm59i2OTisBel6p8A73XJJsejOZxeoFptIvD3usbgTz1zqSWAP7P8aTE5Xg/Cp3bbfJqAXuyJ+PQCPn0cC8XVKw/+umoM/tRz55UA/szyp9zk+MC/devW0dWrV/VRFZOSxo4dS1u2bMHBqwrjBf4yiwv+FIL3d9bgzzx/yk1u6tSp4mQBmw48VY+2XAm8VyefWHDmzBm5G5AqsALgL7Nk4C8wToFvAH/m+VNqcnyqAI/ifv7558BwuHLDu+++K0ZzfGoBrmgVAH/+eoI/f43CpgB//srp4E+pyfG76JkzZ4qRHK7uFeCRHL/SwLe56AkBf/6agj9/jcKmAH/+yungT5nJtbe308SJE+m3337zb6njKQYOHEgXLlyggoICx5WIrvngT15L8CevlWxK8CerFJFq/pSZHK8L4TPidu7cKd9aR1OuXLlSnD2HdXPRAQD+5LUEf/JayaYEf7JKEanmT5nJFRYWihMGSkpK5FvraMqWlhbikwra2tocVSD6ZoM/eU3Bn7xWsinBn6xSRKr5U2JyvEfbvHnz6MaNG/ItdTzlqFGj6NChQ9jTMgIOwF9wEcFfcM0y3QH+gmupkj8lJrd582Z68OCBsVeVbK5z5swRO11s2rSJqqqqelS9traW8vPzjS5z4CH7oEGDaP369cEJwR2vKWCaP68yslzJplMZZvAXnbom+Xv27Jl4/bdnzx7RoM8++0z0w2+++WbGBiadPyUmV15eLoTmmZW6r4cPHwqzYmMrKioS9SgrK8toYBzgDRs20LfffmvU5HiGJcPY2NioW7LElWeSv1SDk+EK/CUOPzLJH6995Iv7QM/wXO//lJjcG2+8IWZV5ubmaieYR3H80be+vp4GDBhAHPSmpqYuTzMeAG+//baoo+mRHJ83x7OM/vzzT+2aJa1Ak/zJciWbTldswF90SpvkL70V6P+IIjc5Pivu008/NbYAnA9jPXjw4EtT4//mp2UONpted5cNw3WuFy+M/Oqrr8SZc7jCKWCav9Ray3Ilmy6cIvJ3gT95rTKltIk/riOzxVdPn2ySzl/kJscn37Kx8MxKE1f6k0ucTI5nWBAc4p4AACAASURBVPLp4YsWLTIhXSLKNM1fnE0O/GX/E7CJP5m+zzNC02+yuB6q+Ivc5D7//HMaOnQorV69OntiQuQQ55Hc9u3b6e7du/Tll1+GaDluYQVM8xdnkwN/2f+GbOGP+8Fly5bRkSNHiGcu9nTZMpJTxV/kJsdb2Xz88cf04YcfZk9MiBxkv8mF6YxCVCfQLd9//z1988032OIrkGqvJzbNXxiubOlkwF8W4P19qw388dss/mTT0yeaMJxmr07POajiL3KTKy4upoaGBuJ/TVxBZ1faNFxvbW2lyspK4n9NXkGXYJisa3rZpvkL03nYYnK28JeJJ28mKh80LDNCMcGlaf5kX1GG4VS1nqr4i9zk8vLyxDc5kyeAZ+qkM3UmtnQyfGIzf5O7ffu2ap4y5h/mIcFYZbsp2Ab+vGqlcwX+wpOS+q2dF1v7TSYLX1J2d5rmz3sQSG2Ft1buiy++6HYWedL7v8hN7q233qJff/3VyPIBPzzZ/K5fv07vv/++X1Ijf+dp3Lyk4ffffzdSPhca5nWvscp2UzD4Cx8NG/jraRTnTY5IfRDjh0KbLvAXPhqq+Ivc5Hr37i3WeuXk5IRvraI7f/jhBxo9erTvh1hFxftm+/z5c+I1Np2dnb5pVSUIM3FHVV3C5Av+wqj21z028Ndd7b01hRUVFeJNh8wi5/AqZHcn+Auvnyr+Ije5Xr160YsXL8K31PE7WT8TFy+gr66u7rJ4Pv0df01NjfWnJYC/8ASZ5q+7mqeP3GRMziSn4C87/qLWL3KTs/lJJrz0eu5U9SQTpPYYyQVRK1lpbeAPI7lkMRWkNar4i9zkbH4nHURwE2lVvZMO0hZ8kwuiVrLS2sBfJkVTJ0fgm1yyuPNao4q/yE3O9OwiFqy7rWzSO28bMcHsyuyjYoq/sB0vj5xLS0uJp8X/+9//FuskvX1Xs1cjWA428JepxphdKR9L9H+vaxW5yZleJxJnk1O1TkT+5/FXSqyTC6oYUViTS9013vSDmC389TSa45MdsE6uZz7janKq+Ivc5GxY8e8XZD4hgSda/OMf/6BVq1ZZ86NRteI/eJcd3ztM8ednct6IjZX11i3997//pY8++kiI/a9//Utsav7jjz/Se++9J71bRZSRAn/Zq2mKv9Sao/9TPJKzYe82mSDzoar//Oc/xe7cmY6jyB75YDmo2rstWC3indoUfz2ZHI/QVqxYQXV1dcSvU/mMQ14P6bHX0dEh/rfpkRz4y559U/wFNTmX+r/IR3I27MItY3Jep8Obl3IHtXz5cjG689vMNPufQeYcVO3CrbLOtuVtir+eTK67kzG846B4NGeLyYG/7Gk2xV9Qk3Op/4vc5Gw4T0nG5FIPVrXF5HCeV/adjCn+/EzOey3ptdB7JXnq1ClrTA78xZe/oCbnUv8Xucmx2KZPxuUnZ+/p2At+6qJm/iaX+iST+jrJ1EgOJzNn38F4OZjgz8/k0nn06prKqsnXleAv3vyl1h79n+Jvcpx9eXm5+O4wc+bM6MgJkFP6WUreDgnedxBv9iCfeTd//nwrvsmdOHFCnGbe2NgYoKVI2p0CJviT/SbHD1H8poH3d+V42/K6EvxF91sywV9q7dH/aTC5zZs304MHD8SP2NSVOpuN67Bp06aXR8B7T8x9+/alPXv2GJvNlqoNPxQMGjSI1q9fb0qyxJRrgj/P5Hh2ZOrV3Nws9ltM5TF19mTqU7eXB98vexZYVEEDf1EpSWSCv/Tao/97pYiS15V8FMa8efPEbDEbL5OvhTLpwU/4hw4doqKiIhsli1WdbOfPRjHBX3RRsZ0/1/o/JSbHuBQWFtL+/fuppKQkOnoiysm2ILe0tBDPbGtra4uohcjGZv5siw74iz4iNvPnWv+nzOR49s6TJ0+MvrKMHl01OfKrIn51yprhikYB8CevI/iT10o2JfiTVYrE/A2V/Z8yk2tvb6eJEycSz2TE1bMCAwcOpAsXLlBBQQGkikgB8CcvJPiT10o2JfiTVYpINX/KTI6byFvc8AzLxYsXy7fYsZR79+4lntl27Ngxx1quvrngz19j8OevUdgU4M9fOR38KTU5Xui6bt06sScfru4V4AW4W7ZsoenTp0OiiBUAf/6Cgj9/jcKmAH/+yungT6nJcROnTp0qRnK8Hg3X6wrwNHF+kjlz5gykUaQA+MssLPhTBF1KtuDPPH/KTY5fxfFo7urVq+qJilkJY8eOFaM4U4vmYyZXqOqCv8yygb9QSAW6CfyZ50+5yXET+d30lClTxLE2uP5SYMeOHXT27Fl8i9MABPjrKjL40wDe30WAP7P8aTG5K1eu0KRJk+j69es0fPhwfXRZWhKfwDx69Gg6f/68OMsOl1oFwN/r+oI/tbyl5w7+zPKnxeS4ibxuhE3u8OHDegmzsLS5c+cKk8O6OH3BAX+vtAZ/+rjzSgJ/5vjTZnLcRB7NLViwgCorK/VTZkmJDQ0NdODAATGKw6VXAfBHBP70MpdaGvgzw59Wk+M93caPH0985ldxcbE52gyV3NraShMmTKCLFy9ij0oDMQB/4M8Adi+LBH9m+NNqchxtPjm3rq5O7Mqem5trkjmtZfN5XbwbPZ9jt2jRIq1lo7BXCoA/8Gfy9wD+9POn3eQYsDVr1ojvc8ePHzfJm9ayZ82aJb7Dbdu2TWu5KKyrAuAPVJhUAPzpVd+IyXETKyoqqHfv3uKkgqRffMJAZ2cnHTx4MOlNjU37wF9sQpXIioI/fWE1ZnLcRF4/MnToUPExPKkXT7K5e/cu1sNZGGDwZ2FQHKoS+NMTbKMm5xld//79Ezmi4xHco0ePYHB6WA5VCnc04C+UdLgpAgXAXwQi+mRh3OS8V5d89hzvpZeEySg8yYT36uQzkvCKUj3E2ZbAr47AX7Yq4v6wCoC/sMrJ3WeFyXFV+WMs79q9b9++WC8v4GUCCxcuFKcKYJKJHIQ2pAJ/NkTB3TqAP3Wxt8bkuIk8vZZPLNi9e3csF4zzt8UlS5aIkwWwTEAdtKpyBn+qlEW+MgqAPxmVgqexyuS4+rxgcvny5ZSXl0fbt2+PxV6XvBfg6tWr6fbt21RfX4+F3sE5tOYO8GdNKJysCPiLPuzWmZzXRN7rjU2utrbW6tMLeDf3qqoqYXLYizJ6QE3lCP5MKY9yWQHwFx0H1pocN5F3766urqaOjg5au3atVQev8iSZrVu3Un5+PtXU1OA0geiYtCYn8GdNKJysCPiLJuxWm5zXRD54kEd1PANu6dKl4rudqYu/t+3atUvMnOTRGw48NRUJfeWCP31ao6SuCoC/7KiIhcl5TeTZlzy5o7m5WeyYwkeGlJSUZKeAxN0tLS3iiCBeDlBaWiomxfDsSVxuKQD+3Iq3ba0Ff+EiEiuT85rY3t4u1tQdPXqUnj9/TjNmzKDy8nJx+ngU6+x4nRuf2t3Y2EgnT56knJwcmj17tnhdWlBQEE5p3JUYBcBfYkIZy4aAv2Bhi6XJpTaRZyPxE87p06epqamJCgsLady4ceLfkSNHitmZQ4YMoX79+lGfPn2EYbExPn36lB4/fkz37t0jnh158+ZNamtro8uXL4t/y8rKaNq0aWLEVlRUFExVpHZGAfDnTKitbCj48w9L7E0uvYl8Vh1/sL127RrdunWL7ty5Q/fv3xeGxsbGBsdGx4bHxjd48GAaNmwYjRgxgsaMGSMmkPCZb7igQBgFwF8Y1XBPVAqAv65KJs7k/GDp1asXvXjxwi8Z/g4FlCgA/pTIikwlFXCRP5icJBxIBgWiUMDFTiYK3ZBHNAq4yB9MLhp2kAsUkFLAxU5GShgk0qKAi/zB5LSghUKgwF8KuNjJIPb2KOAifzA5e/hDTRxQwMVOxoGwxqaJLvIHk4sNnqhoEhRwsZNJQtyS0gYX+YPJJYVetCMWCrjYycQiMI5U0kX+YHKOwI1m2qGAi52MHcqjFq5+E4bJgX0ooFEBmJxGsVFUFwVc5A8mhx8CFNCogIudjEZ5UZSPAi7yB5PDzwIKaFTAxU5Go7woCibXdfT6wrE9rtDJoB8wqQD4M6k+ynaRP4zkwD0U0KiAi52MRnlRFEZyGMmhk0E/YFIB8GdSfZTtIn8YyYF7KKBRARc7GY3yoiiM5DCSQyeDfsCkAuDPpPoo20X+MJID91BAowIudjIa5UVRGMlhJIdOBv2ASQXAn0n1UbaL/GEkB+6hgEYFXOxkNMqLojCSw0iupqaGqqur8WOAAkYUAH9GZEehfyvgIn/OjeRAOxSAAlAACrijAEzOnVijpVAACkAB5xSAyTkXcjQYCkABKOCOAjA5d2KNlkIBKAAFnFMAJudcyNFgKAAFoIA7CsDk3Ik1WmpYgdraWtqwYQO98847dOTIERo1apThGqF4lxRwlT+YnEuUo63GFPjuu++oqamJdu7cSZcuXSLucPj/GzBggLE6oWB3FHCZP5icO5yjpQYVYFPLz8+n+fPn08OHD8W/VVVVNHnyZIO1QtGuKOAyf4k1uSBD8xs3btDGjRupvr4eT9au/Oo1tvPZs2e0cuVKqqioEKbm/XdZWZkwO1xQQKUCrvOXSJMLMjRng5szZw4NHToUr49U/tIczjt95AaTcxgGA013nb9Empzs0PzcuXO0bNky4q1uDh8+jJGcgR+gC0W6/iTtQoxtbqPr/CXO5MIEFK8rbf6JJqNusg9eyWgtWmGbAi7zlziTCzM0h8nZ9pNMXn2CvEJPXuvRItMKuMxf4kwOIznTPyeUn0mBIJOhoCIUiFoBV/lLnMkxGEGH5hjJRf1zQn5QAApAATsUSKTJBR2aw+TsgBG1gAJQAApErUAiTc4bzaVvoZTJzGByUWOF/KAAFIACdiiQWJOzQ17UAgpAASgABUwqAJMzqT7KhgJQAApAAaUKOGdyvPC7urpaqajIHApkUgD8gQ2TCrjIn3Mm16tXL3rx4oVJzlC2wwqAP4eDb0HTXeQPJmcBeKiCOwq42Mm4E137W+oifzA5+7lEDROkgIudTILCF/umuMgfTC722KIBcVLAxU4mTvFJel1d5A8ml3Sq0T6rFHCxk7EqAI5XxkX+YHKOQ4/m61XAxU5Gr8IorScFXOQPJoffBBTQqICLnYxGeVGUjwIu8geTw88CCmhUwMVORqO8KAom10UBmBx+FlBAowIwOY1io6iuHb6D64RhcvghQAGNCsDkNIqNomByRASTww8BCmhUACanUWwUBZODyeFXAAX0KgCT06s3SntdARf5w0gOvwIooFEBFzsZjfKiKEw8wcQTdDLoB0wqAP5Mqo+yXeQPIzlwDwU0KuBiJ6NRXhSFkRxGcuhk0A+YVAD8mVQfZbvIH0Zy4B4KaFTAxU5Go7woCiM5jOTQyaAfMKkA+DOpPsp2kT+M5MA9FNCogIudjEZ5URRGcskfyf3000905coVunbtGt26dYvu3LlD9+/fp8ePH9PTp0/p+fPnlJOTQ3369KF+/frR4MGDadiwYTRixAgaM2YMvfPOOzRhwgT8WKBAKAXAXyjZcFNECoC/rkLGfiR36dIlOnXqFJ0+fZqampqosLCQxo0bJ/4dOXIkDR8+nIYMGSIMjY2NDY6Njg2Pje/evXv0yy+/0M2bN6mtrY0uX74s/i0rK6Np06bR9OnTqaioKCIEkU3SFAB/SYtovNoD/vzjFUuTa29vp++++46OHj0qDGvGjBlUXl5OU6ZModzcXP9W+6T4448/6OzZs9TY2EgnT54Uxjh79myaP38+FRQUZJ0/Moi3AuAv3vGLe+3BX7AIxsrkeMTW0NBAzc3NVFFRQXPnzqWSkpJgLQ6RuqWlhQ4fPkwHDx6k0tJSqqysFCM8XG4pAP7cirdtrQV/4SISC5M7ceIEbd++nZ48eUJLly6lxYsXh2ttBHft3buXdu3aRX379qXVq1fTzJkzI8gVWdisAPizOTrJrxv4yy7GVpscTyCprq6mjo4OWrt2rXhdaMvFr0u3bt1K+fn5VFNTIyas4EqWAuAvWfGMW2vAXzQRs9bkNm7cKEZvtbW1tGrVqmhaqyCXHTt2UFVVlRjVcZ1xJUMB8JeMOMa1FeAvushZZ3I8W2j58uWUl5cnTI5nR9p+8exMNrnbt29TfX09ZmPaHrAe6gf+Yhy8BFQd/EUfRKtM7uuvvxbf23bv3i0md8Tt4kkxS5YsIf5ut2jRorhV3/n6gj/nETAqAPhTI781JrdmzRqx3m3fvn1UXFysprUacm1tbaWFCxeK2Zfbtm3TUCKKiEIB8BeFisgjrALgL6xy/vdZYXK8HIBnTvJkjijWufk3W20KXmfHk2R4BiYvO8BltwLgz+74JL124E9thI2b3AcffED9+/en/fv3q22pgdw/+eQTevToER07dsxA6ShSRgHwJ6MS0qhSAPypUvZVvkZNjgM8dOhQscA7qRd/W7x79y6MzsIAgz8Lg+JQlcCfnmAbMzkeovfu3TuRI7j00PGIrrOzE68u9TAtVQr4k5IJiRQpAP4UCdtNtkZMjj+yXr9+nY4fP66vpYZLmjVrFo0ePRqTUQzHgYsHfxYEweEqgD+9wdducjxNtq6ujs6dO5eISSay4eLJKJMnT6YVK1ZgeYGsaArSgT/wpwAr6SzBn37+tJocL3QcP3488ZlHcV4mIE10WkJeXsBn1V28eBELxsOKmMV94A/8ZYFP1reCPzP8aTW5SZMm0YIFC2K50Dtrwv/OgCfZHDhwgM6fPx9VlshHUgHwR2KSF/iTBCbiZODPDH/aTI73YuPvcHxkjesXHxHE3+ew16U+EsDfK63Bnz7uvJLAnzn+tJgc76bNTzFscnHYi1L1T4D3umST49EcTi9QrTYR+HtdY/CnnrnUEsCfWf60mByvB+FTu20+TUAv9kR8egGfPo6F4uqVB39dNQZ/6rnzSgB/ZvlTbnJ84N+6devo6tWr+qiKSUljx46lLVu24OBVhfECf5nFBX8Kwfs7a/Bnnj/lJjd16lRxsoBNB56qR1uuBN6rk08sOHPmjNwNSBVYAfCXWTLwFxinwDeAP/P8KTU5PlWAR3E///xzYDhcueHdd98Vozk+tQBXtAqAP389wZ+/RmFTgD9/5XTwp9Tk+F30zJkzxUgOV/cK8EiOX2ng21z0hIA/f03Bn79GYVOAP3/ldPCnzOTa29tp4sSJ9Ntvv/m31PEUAwcOpAsXLlBBQYHjSkTXfPAnryX4k9dKNiX4k1WKSDV/ykyO14XwGXE7d+6Ub62jKVeuXCnOnsO6uegAAH/yWoI/ea1kU4I/WaWIVPOnzOQKCwvFCQMlJSXyrXU0ZUtLC/FJBW1tbY4qEH2zwZ+8puBPXivZlOBPViki1fwpMTneo23evHl048YN+ZY6nnLUqFF06NAh7GkZAQfgL7iI4C+4ZpnuAH/BtVTJnxKT27x5Mz148MDYq0o21zlz5oidLjZt2kRVVVVdVH/27JkYJu/Zs0f87bPPPhP1ffPNN4NHKII7uC6DBg2i9evXR5Cb21mY5s9Tv7a2lvLz87tdPgP+ksuoSf5kuZJNpytKKvs/JSZXXl4uDIRnVuq+Hj58KDoVNraioiJRj7Kysi4dDa8R4ovTegHvLp2u+vMMSzbZxsZGXUUmthyT/KUa3IYNG+jbb7/t1uTAX2LxI5P8yXIlm05XlFT2f0pM7o033hCzKnNzc3Vp9LIcHsXxR9/6+noaMGAAcTCbmpp8R2my6VQ1iM+b41lGf/75p6oinMnXJH/eA9Pbb78t9M40kksPBvhLDp4m+QvLVZL5i9zk+Ky4Tz/91NgCcD6M9eDBgy9Njf+bXxtxENn0Ml2chq/uXm3q+vnxwsivvvpKnDmHK5wCpvlLrXVPryvTWwf+wsXbtrts4o+1keVKNp1KvVX1f5GbHJ98y8bCMytNXOlPJDImJ5NGR1t4hiWfHr5o0SIdxSWyDNP8hTE58JccFG3iT5Yr2XSqo6Sq/4vc5D7//HMaOnQorV69WrUm3eYfdCTH6ZctW0ZHjhwhnuFj8tq+fTvdvXuXvvzyS5PViHXZpvkLanLgL9a4dam8LfzJciWbTkeUVPV/kZscb2Xz8ccf04cffqhDly5lBPkmx6M+frXp9ypTV0O+//57+uabb7DFVxaCm+YviMmBvywCbemtNvAny5VsOl1Sq+r/Ije54uJiamhoIP7XxCU7u9KWIXqqRq2trVRZWUn8r+5LZtkFv7fnGYOp13vvvSceEvjimao//vij+N98GKyJ0bFp/mRNDvwFJ9zjzxRbMjU2zZ8sV7LpZNocVRpV/V/kJpeXlye+yZk8ATxTh506EaC7Dtv0Wjk+sZm/yd2+fTsqbqTykX0wSM0sfdlF+ghaqmAFiWzgz2tW+sQT8Bc+4Knf2nmxtcxksvClhb/TNH899WtffPHFy9m+LvV/kZvcW2+9Rb/++quR5QN+aHJHfP36dXr//ff9khr5Oy8j4Knnv//+u9byg7zi9SrW3bfP1FmtWhuQUhj4C6+8Kf5kapz6gJD6UMYPhTZd4C98NFTxF7nJ9e7dW6z1ysnJCd9aRXf+8MMPNHr0aOMTTDI17/nz58RrbDo7OxUp0H22QSfreKO4iooKMfLki5+0P/roo5cFZFoErbph4C+8wqb486txOm82bN6Qqc7gzy+amf+uir/ITa5Xr1704sWL8C11/E7WL8qLF8ZXV1f3mGXQZRfppsiZp66z8V4X/+c//3lpgpkqUFNTE/npC+AvPEFR8ydbk544TR+5yZicCq5k2wL+ZJXqmk6Ff0RucjY/yYSXXs+dqp5k/GofdCQns8jZ1OJS8OcXbf1P0uFr9NedGMllq2A87lfV/0Vucja/k7Y91KreSfu1O8g3OX6qXr58uRh99bSuUMYI/eoV5u/gL4xqf91jij+ZGuObnIxK8U6jir/ITc707KL0V2de2G2Z/dcThnGYXdmdjulP2pxmxYoVVFdXp/37J/gL39GZ4k+mxphdKaPSX2m6e4vicv8XucmZXicS5yCrWici8/PItOyCO5eOjo6Xe3p29z2O8/e+m3jr5Jqbm32/x8nUK2ga8BdUsVfpTfInU2usk5NRKb4mp4q/yE3OhhX/fk8yfEICv277xz/+QatWrTK2cDkdWVUr/uV+GslIBf7CxxH8hdfOuxP8hddQFX+Rm5wNe7fJmBwfqvrPf/5TjFBMHzPhYaFq77bw2MXvTvAXPmbgL7x23p3gL7yGqviL3ORs2IVbxuRSvxnJTqYIHz65O1Xtwi1XejJSgb/wcQR/4bXz7gR/4TVUxV/kJmfDeUoyJpd6sKotJqfqPKXw2MXvTvAXPmbgL7x23p3gL7yGqviL3OS4iaZPxk2fLMF1St2QlL/JpY7kTM4G9JDAyeDhfxzpd4K/4FqCv+CaZboD/AXXUiV/SkyuvLycVq5cSTNnzgze2gjuSD8jyZvizvtC8jc4byYhn3nHO+fb8E3uxIkT4jTzxsbGCBRwOwvwFzz+4C+4ZpnuAH/BtVTJnxKT27x5Mz148EB02qYuNrrS0tKXxW/atOnlNHhvzUjfvn1pz5495B0XM2DAAFPVFQ8FgwYNovXr1xurQ1IKBn/BIwn+gmuW6Q7wF1xLlfwpMTk+CmPevHlixGTjZePCSN495NChQ1RUVGSjZLGqE/gLHi7wF1yzTHeAv+BaquRPiclxEwsLC2n//v1UUlISvMWK77DN5FpaWohnFrW1tSluuTvZgz/5WIM/ea1kU4I/WaWIVPOnzOR49uKTJ0+MvrKUl9lsSh6q86tT1gxXNAqAP3kdwZ+8VrIpwZ+sUiQ+1ajs/5SZXHt7O02cOJF4JiOunhUYOHAgXbhwgQoKCiBVRAqAP3khwZ+8VrIpwZ+sUkSq+VNmctxE3uKGZ1guXrxYvsWOpdy7dy/xzKJjx4451nL1zQV//hqDP3+NwqYAf/7K6eBPqcmdOnWK1q1bRz///LN/ax1NwQsgt2zZQtOnT3dUAXXNBn/+2oI/f43CpgB//srp4E+pyXETp06dKkZyvB4N1+sK8Po8fpI5c+YMpFGkAPjLLCz4UwRdSrbgzzx/yk2OX8XxaO7q1avqiYpZCWPHjhWjOFOL5mMmV6jqgr/MsoG/UEgFugn8medPuclxE/nd9JQpU8SxNrj+UmDHjh109uxZfIvTAAT46yoy+NMA3t9FgD+z/GkxuStXrtCkSZPo+vXrNHz4cH10WVoSn8A8evRoOn/+vDjLDpdaBcDf6/qCP7W8pecO/szyp8XkuIm8boRN7vDhw3oJs7C0uXPnCpPDujh9wQF/r7QGf/q480oCf+b402Zy3EQezS1YsIAqKyv1U2ZJiQ0NDXTgwAExisOlVwHwRwT+9DKXWhr4M8OfVpPjPd3Gjx9PfOZScXGxOdoMldza2koTJkygixcvYo9KAzEAf+DPAHYviwR/ZvjTanIcbT45t66uTpzvlpuba5I5rWXzeUmTJ08W59gtWrRIa9ko7JUC4A/8mfw9gD/9/Gk3OQZszZo14vvc8ePHTfKmtexZs2aJ73Dbtm3TWi4K66oA+AMVJhUAf3rVN2Jy3MSKigrq3bu3OKkg6RefMNDZ2UkHDx5MelNj0z7wF5tQJbKi4E9fWI2ZHDeR148MHTpUfAxP6sWTbO7evYv1cBYGGPxZGBSHqgT+9ATbqMl5Rte/f/9Ejuh4BPfo0SMYnB6WQ5XCHQ34CyUdbopAAfAXgYg+WRg3Oe/VJZ89x3vpJWEyCk8y4b06+YwkvKJUD3G2JfCrI/CXrYq4P6wC4C+scnL3WWFyXFX+GMu7du/bty/Wywt4mcDChQvFqQKYZCIHoQ2pwJ8NUXC3DuBPXeytMTluIk+v5RMLdu/eHcsF4/xtccmSJeJkASwTUAetqpzBnyplka+MAuBPRqXgaawyOa4+L5hcvnw55eXl0fbt22Ox1yXvBbh69Wq6ffs21dfXY6F3cA6tuQP8Q3+LbgAAAuFJREFUWRMKJysC/qIPu3Um5zWR93pjk6utrbX69ALezb2qqkqYHPaijB5QUzmCP1PKo1xWAPxFx4G1JsdN5N27q6urqaOjg9auXWvVwas8SWbr1q2Un59PNTU1OE0gOiatyQn8WRMKJysC/qIJu9Um5zWRDx7kUR3PgFu6dKn4bmfq4u9tu3btEjMnefSGA09NRUJfueBPn9YoqasC4C87KmJhcl4TefYlT+5obm4WO6bwkSElJSXZKSBxd0tLizgiiJcDlJaWikkxPHsSl1sKgD+34m1ba8FfuIjEyuS8Jra3t4s1dUePHqXnz5/TjBkzqLy8XJw+HsU6O17nxqd2NzY20smTJyknJ4dmz54tXpcWFBSEUxp3JUYB8JeYUMayIeAvWNhiaXKpTeTZSPyEc/r0aWpqaqLCwkIaN26c+HfkyJFiduaQIUOoX79+1KdPH2FYbIxPnz6lx48f071794hnR968eZPa2tro8uXL4t+ysjKaNm2aGLEVFRUFUxWpnVEA/DkTaisbCv78wxJ7k0tvIp9Vxx9sr127Rrdu3aI7d+7Q/fv3haGxsbHBsdGx4bHxDR48mIYNG0YjRoygMWPGiAkkfOYbLigQRgHwF0Y13BOVAuCvq5KJM7moYEE+UAAKQAEoEH8FYHLxjyFaAAWgABSAAhkUgMkBDSgABaAAFEisAjC5xIYWDYMCUAAKQAGYHBiAAlAACkCBxCoAk0tsaNEwKAAFoAAUgMmBASgABaAAFEisAjC5xIYWDYMCUAAKQAGYHBiAAlAACkCBxCoAk0tsaNEwKAAFoAAUgMmBASgABaAAFEisAjC5xIYWDYMCUAAKQAGYHBiAAlAACkCBxCoAk0tsaNEwKAAFoAAUgMmBASgABaAAFEisAjC5xIYWDYMCUAAKQAGYHBiAAlAACkCBxCoAk0tsaNEwKAAFoAAUgMmBASgABaAAFEisAjC5xIYWDYMCUAAKQIH/Bwj5ev8D4cTGAAAAAElFTkSuQmCC)"
      ],
      "id": "OVBaCSU2YUT7"
    },
    {
      "cell_type": "markdown",
      "metadata": {
        "id": "js6CeDTnjE5_"
      },
      "source": [
        "For our second set of policies we have the one where we only need to deliver to location 2,2.\n",
        "\n",
        "The policies for these state look like this:"
      ],
      "id": "js6CeDTnjE5_"
    },
    {
      "cell_type": "markdown",
      "metadata": {
        "id": "Z5I_qshdjigE"
      },
      "source": [
        "![Untitled Diagram.png](data:image/png;base64,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)\n"
      ],
      "id": "Z5I_qshdjigE"
    },
    {
      "cell_type": "markdown",
      "metadata": {
        "id": "hgd9Wplsjqvs"
      },
      "source": [
        "The third set of policies is for when we have to deliver to either the 0,0 delivery or 2,2 delivery. \n",
        "\n",
        "The policies for these state look like this:"
      ],
      "id": "hgd9Wplsjqvs"
    },
    {
      "cell_type": "markdown",
      "metadata": {
        "id": "hhSgSsECjq0R"
      },
      "source": [
        "![Untitled Diagram.png](data:image/png;base64,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)"
      ],
      "id": "hhSgSsECjq0R"
    }
  ]
}